{
 "cells": [
  {
   "cell_type": "markdown",
   "metadata": {
    "toc": true
   },
   "source": [
    "<h1>Table of Contents<span class=\"tocSkip\"></span></h1>\n",
    "<div class=\"toc\"><ul class=\"toc-item\"><li><span><a href=\"#1.-[Chapter-05]-회귀\" data-toc-modified-id=\"1.-[Chapter-05]-회귀-1\">1. [Chapter 05] 회귀</a></span><ul class=\"toc-item\"><li><span><a href=\"#1.1-회귀-소개\" data-toc-modified-id=\"1.1-회귀-소개-1.1\">1.1 회귀 소개</a></span></li><li><span><a href=\"#1.2-단순-선형-회귀를-통한-회귀-이해\" data-toc-modified-id=\"1.2-단순-선형-회귀를-통한-회귀-이해-1.2\">1.2 단순 선형 회귀를 통한 회귀 이해</a></span></li><li><span><a href=\"#1.3-비용-최소화하기---경사-하강법(Gradient-Descent)-소개\" data-toc-modified-id=\"1.3-비용-최소화하기---경사-하강법(Gradient-Descent)-소개-1.3\">1.3 비용 최소화하기 - 경사 하강법(Gradient Descent) 소개</a></span></li><li><span><a href=\"#1.4-사이킷런-LinearRegression을-이용한-보스턴-주택-가격-예측\" data-toc-modified-id=\"1.4-사이킷런-LinearRegression을-이용한-보스턴-주택-가격-예측-1.4\">1.4 사이킷런 LinearRegression을 이용한 보스턴 주택 가격 예측</a></span><ul class=\"toc-item\"><li><span><a href=\"#1.4.1-회귀-평가-지표\" data-toc-modified-id=\"1.4.1-회귀-평가-지표-1.4.1\">1.4.1 회귀 평가 지표</a></span></li><li><span><a href=\"#1.4.2-LinearRegression을-이용해-보스턴-주택-가격-회귀-구현\" data-toc-modified-id=\"1.4.2-LinearRegression을-이용해-보스턴-주택-가격-회귀-구현-1.4.2\">1.4.2 LinearRegression을 이용해 보스턴 주택 가격 회귀 구현</a></span></li></ul></li><li><span><a href=\"#1.5-다항-회귀와-과(대)적합/과소적합-이해\" data-toc-modified-id=\"1.5-다항-회귀와-과(대)적합/과소적합-이해-1.5\">1.5 다항 회귀와 과(대)적합/과소적합 이해</a></span><ul class=\"toc-item\"><li><span><a href=\"#1.5.1-다항-회귀를-이용한-과소적합-및-과적합-이해\" data-toc-modified-id=\"1.5.1-다항-회귀를-이용한-과소적합-및-과적합-이해-1.5.1\">1.5.1 다항 회귀를 이용한 과소적합 및 과적합 이해</a></span></li><li><span><a href=\"#1.5.2-편향-분산-트레이드오프(Bias-Variance-Trade-off)\" data-toc-modified-id=\"1.5.2-편향-분산-트레이드오프(Bias-Variance-Trade-off)-1.5.2\">1.5.2 편향-분산 트레이드오프(Bias-Variance Trade off)</a></span></li></ul></li><li><span><a href=\"#1.6-규제-선형-모델---릿지,-라쏘,-엘라스틱넷\" data-toc-modified-id=\"1.6-규제-선형-모델---릿지,-라쏘,-엘라스틱넷-1.6\">1.6 규제 선형 모델 - 릿지, 라쏘, 엘라스틱넷</a></span><ul class=\"toc-item\"><li><span><a href=\"#1.6.1-규제-선형-모델의-개요\" data-toc-modified-id=\"1.6.1-규제-선형-모델의-개요-1.6.1\">1.6.1 규제 선형 모델의 개요</a></span></li><li><span><a href=\"#1.6.2-릿지-회귀\" data-toc-modified-id=\"1.6.2-릿지-회귀-1.6.2\">1.6.2 릿지 회귀</a></span></li><li><span><a href=\"#1.6.3-라쏘-회귀\" data-toc-modified-id=\"1.6.3-라쏘-회귀-1.6.3\">1.6.3 라쏘 회귀</a></span></li><li><span><a href=\"#1.6.4-엘라스틱넷-회귀\" data-toc-modified-id=\"1.6.4-엘라스틱넷-회귀-1.6.4\">1.6.4 엘라스틱넷 회귀</a></span></li><li><span><a href=\"#1.6.5-선형-회귀-모델을-위한-데이터-변환\" data-toc-modified-id=\"1.6.5-선형-회귀-모델을-위한-데이터-변환-1.6.5\">1.6.5 선형 회귀 모델을 위한 데이터 변환</a></span></li></ul></li><li><span><a href=\"#1.7-로지스틱-회귀\" data-toc-modified-id=\"1.7-로지스틱-회귀-1.7\">1.7 로지스틱 회귀</a></span></li><li><span><a href=\"#1.8-회귀-트리\" data-toc-modified-id=\"1.8-회귀-트리-1.8\">1.8 회귀 트리</a></span></li></ul></li></ul></div>"
   ]
  },
  {
   "cell_type": "markdown",
   "metadata": {},
   "source": [
    "# 1. [Chapter 05] 회귀"
   ]
  },
  {
   "cell_type": "markdown",
   "metadata": {},
   "source": [
    "## 1.1 회귀 소개\n",
    "\n",
    "회귀 분석은 데이터 값이 평균과 같은 일정한 값으로 돌아가려는 경향을 이용한 통계학 기법이며, **최적의 회귀 계수를 찾아내는 것이 핵심**\n",
    "\n",
    "회귀 계수의 선형 여부에 따라 선형 회귀와 비선형 회귀, 독립변수의 개수에 따라 단일 회귀와 다중 회귀로 나눌 수 있음\n",
    "\n",
    "같은 지도 학습에 속하지만 분류는 예측값이 이산형이고, 회귀는 **예측값이 연속형**이라는 차이점이 있음"
   ]
  },
  {
   "cell_type": "markdown",
   "metadata": {},
   "source": [
    "- 일반 선형 회귀 : 예측값과 실제 값의 RSS(Residual Sum of Squares)를 최소화할 수 있도록 회귀 계수를 최적화하며, 규제 적용 X\n",
    "\n",
    "\n",
    "- 릿지 : 선형 회귀에 L2 규제(회귀 계수값을 더 작게 만드는 규제)를 추가한 회귀 모델\n",
    "\n",
    "\n",
    "- 라쏘 : 선형 회귀에 L1 규제(영향력이 작은 피처의 회귀 계수를 0으로 만들어 피처가 선택되지 않게 하는 규제)를 적용한 방식\n",
    "\n",
    "\n",
    "- 엘라스틱넷 : L2, L1 규제를 결합한 모델로, 주로 피처가 많은 데이터 세트에서 적용\n",
    "\n",
    "\n",
    "- 로지스틱 회귀 : 분류에 사용되는 선형 모델이며, 일반적으로 이진 분류뿐만 아니라 텍스트 분류와 같은 영역에서 적용\n",
    "\n",
    "    cf) 규제 : 과적합 문제를 해결하기 위해서 회귀 계수에 페널티 값을 적용하는 것"
   ]
  },
  {
   "cell_type": "markdown",
   "metadata": {},
   "source": [
    "## 1.2 단순 선형 회귀를 통한 회귀 이해\n",
    "\n",
    "- 단순 선형 회귀 : 독립변수도 하나, 종속변수도 하나인 선형 회귀\n",
    "\n",
    "    잔차 : 실제 값과 회귀 모델의 차이에 따른 오류 값 (잔차의 합이 최소가 되면 최적의 회귀 모델이라고 할 수 있음)\n",
    "    \n",
    "    RSS(Residual Sum of Square) : 오류 값의 제곱을 구해서 더하는 방식\n",
    "    \n",
    "    비용 함수(손실 함수) : 회귀에서 RSS는 비용이며, 회귀 계수(w)로 구성되는 RSS를 비용 함수라고 함"
   ]
  },
  {
   "cell_type": "markdown",
   "metadata": {},
   "source": [
    "## 1.3 비용 최소화하기 - 경사 하강법(Gradient Descent) 소개\n",
    "\n",
    "- **경사 하강법 : 반복적인 계산을 통해 회귀 계수(w) 값을 업데이트하면서 오류 값이 최소가 되는 w 파라미터를 구하는 방식**\n",
    "\n",
    "    (미분된 1차 함수의 기울기가 최소인 점을 비용함수가 최소인 지점으로 간주하고 w를 반환)\n",
    "    \n",
    "\n",
    "- 확률적 경사 하강법 : 경사 하강법은 수행 시간이 오래 걸리기 때문에, 일부 데이터만 이용해 w가 업데이트되는 값을 계산하여 빠른 속도를 보장\n",
    "\n",
    "    (큰 데이터를 처리할 경우 일반적으로 많이 이용)"
   ]
  },
  {
   "cell_type": "markdown",
   "metadata": {},
   "source": [
    "## 1.4 사이킷런 LinearRegression을 이용한 보스턴 주택 가격 예측\n",
    "\n",
    "**LinearRegression 클래스는 RSS를 최소화해 OLS(Ordinary Least Squares) 추정 방식으로 구현한 것**으로, 입력 파라미터와 속성은 다음과 같음\n",
    "\n",
    "- 입력 파라미터\n",
    "\n",
    "    fit_intercept : 절편(intercept) 값을 계산할지 지정, 디폴트는 True\n",
    "    \n",
    "    normalize : 회귀를 수행하기 전 입력 데이터 세트 정규화, 디폴트는 False\n",
    "    \n",
    "    \n",
    "- 속성\n",
    "\n",
    "    coef_ : fit() 메서드를 수행했을 때 회귀 계수가 배열 형태로 저장하는 속성\n",
    "    \n",
    "    intercept_ : intercept 값"
   ]
  },
  {
   "cell_type": "markdown",
   "metadata": {},
   "source": [
    "### 1.4.1 회귀 평가 지표\n",
    "\n",
    "MAE(Mean Absolute Error), MSE(Mean Squared Error), RMSE(Root Mean Squared Error), R제곱(실제 값의 분산 대비 예측값의 분산 비율)"
   ]
  },
  {
   "cell_type": "markdown",
   "metadata": {},
   "source": [
    "### 1.4.2 LinearRegression을 이용해 보스턴 주택 가격 회귀 구현\n",
    "\n",
    "사이킷런에 내장된 데이터 세트인 보스턴 주택 가격 데이터를 이용할 것이며, 해당 피처에 대한 설명은 다음과 같음\n",
    "\n",
    "- CRIM : 지역별 범죄 발생률\n",
    "\n",
    "\n",
    "- ZN : 25,000평방피트를 초과하는 거주 지역의 비율\n",
    "\n",
    "\n",
    "- INDUS : 비상업 지역 넓이 비율\n",
    "\n",
    "\n",
    "- CHAS : 찰스강에 대한 더미 변수 (1: 강의 경계에 위치, 0: 위치 X)\n",
    "\n",
    "\n",
    "- NOX : 일산화질소 농도\n",
    "\n",
    "\n",
    "- RM : 거주할 수 있는 방 개수\n",
    "\n",
    "\n",
    "- AGE : 1940년 이전에 건축된 소유 주택의 비율\n",
    "\n",
    "\n",
    "- DIS : 5개 주요 고용센터까지의 가중 거리\n",
    "\n",
    "\n",
    "- RAD : 고속도로 접근 용이도\n",
    "\n",
    "\n",
    "- TAX : 10,000달러당 재산세율\n",
    "\n",
    "\n",
    "- PTRATIO : 지역의 교사와 학생 수 비율\n",
    "\n",
    "\n",
    "- B : 지역의 흑인 거주 비율\n",
    "\n",
    "\n",
    "- LSTAT : 하위 계층의 비율\n",
    "\n",
    "\n",
    "- MEDV : 본인 소유의 주택 가격 (중앙값)"
   ]
  },
  {
   "cell_type": "code",
   "execution_count": 1,
   "metadata": {},
   "outputs": [
    {
     "name": "stdout",
     "output_type": "stream",
     "text": [
      "<class 'pandas.core.frame.DataFrame'>\n",
      "RangeIndex: 506 entries, 0 to 505\n",
      "Data columns (total 14 columns):\n",
      " #   Column   Non-Null Count  Dtype  \n",
      "---  ------   --------------  -----  \n",
      " 0   CRIM     506 non-null    float64\n",
      " 1   ZN       506 non-null    float64\n",
      " 2   INDUS    506 non-null    float64\n",
      " 3   CHAS     506 non-null    float64\n",
      " 4   NOX      506 non-null    float64\n",
      " 5   RM       506 non-null    float64\n",
      " 6   AGE      506 non-null    float64\n",
      " 7   DIS      506 non-null    float64\n",
      " 8   RAD      506 non-null    float64\n",
      " 9   TAX      506 non-null    float64\n",
      " 10  PTRATIO  506 non-null    float64\n",
      " 11  B        506 non-null    float64\n",
      " 12  LSTAT    506 non-null    float64\n",
      " 13  PRICE    506 non-null    float64\n",
      "dtypes: float64(14)\n",
      "memory usage: 55.5 KB\n",
      "None\n"
     ]
    },
    {
     "data": {
      "text/html": [
       "<div>\n",
       "<style scoped>\n",
       "    .dataframe tbody tr th:only-of-type {\n",
       "        vertical-align: middle;\n",
       "    }\n",
       "\n",
       "    .dataframe tbody tr th {\n",
       "        vertical-align: top;\n",
       "    }\n",
       "\n",
       "    .dataframe thead th {\n",
       "        text-align: right;\n",
       "    }\n",
       "</style>\n",
       "<table border=\"1\" class=\"dataframe\">\n",
       "  <thead>\n",
       "    <tr style=\"text-align: right;\">\n",
       "      <th></th>\n",
       "      <th>CRIM</th>\n",
       "      <th>ZN</th>\n",
       "      <th>INDUS</th>\n",
       "      <th>CHAS</th>\n",
       "      <th>NOX</th>\n",
       "      <th>RM</th>\n",
       "      <th>AGE</th>\n",
       "      <th>DIS</th>\n",
       "      <th>RAD</th>\n",
       "      <th>TAX</th>\n",
       "      <th>PTRATIO</th>\n",
       "      <th>B</th>\n",
       "      <th>LSTAT</th>\n",
       "      <th>PRICE</th>\n",
       "    </tr>\n",
       "  </thead>\n",
       "  <tbody>\n",
       "    <tr>\n",
       "      <th>0</th>\n",
       "      <td>0.00632</td>\n",
       "      <td>18.0</td>\n",
       "      <td>2.31</td>\n",
       "      <td>0.0</td>\n",
       "      <td>0.538</td>\n",
       "      <td>6.575</td>\n",
       "      <td>65.2</td>\n",
       "      <td>4.0900</td>\n",
       "      <td>1.0</td>\n",
       "      <td>296.0</td>\n",
       "      <td>15.3</td>\n",
       "      <td>396.90</td>\n",
       "      <td>4.98</td>\n",
       "      <td>24.0</td>\n",
       "    </tr>\n",
       "    <tr>\n",
       "      <th>1</th>\n",
       "      <td>0.02731</td>\n",
       "      <td>0.0</td>\n",
       "      <td>7.07</td>\n",
       "      <td>0.0</td>\n",
       "      <td>0.469</td>\n",
       "      <td>6.421</td>\n",
       "      <td>78.9</td>\n",
       "      <td>4.9671</td>\n",
       "      <td>2.0</td>\n",
       "      <td>242.0</td>\n",
       "      <td>17.8</td>\n",
       "      <td>396.90</td>\n",
       "      <td>9.14</td>\n",
       "      <td>21.6</td>\n",
       "    </tr>\n",
       "    <tr>\n",
       "      <th>2</th>\n",
       "      <td>0.02729</td>\n",
       "      <td>0.0</td>\n",
       "      <td>7.07</td>\n",
       "      <td>0.0</td>\n",
       "      <td>0.469</td>\n",
       "      <td>7.185</td>\n",
       "      <td>61.1</td>\n",
       "      <td>4.9671</td>\n",
       "      <td>2.0</td>\n",
       "      <td>242.0</td>\n",
       "      <td>17.8</td>\n",
       "      <td>392.83</td>\n",
       "      <td>4.03</td>\n",
       "      <td>34.7</td>\n",
       "    </tr>\n",
       "  </tbody>\n",
       "</table>\n",
       "</div>"
      ],
      "text/plain": [
       "      CRIM    ZN  INDUS  CHAS    NOX     RM   AGE     DIS  RAD    TAX  \\\n",
       "0  0.00632  18.0   2.31   0.0  0.538  6.575  65.2  4.0900  1.0  296.0   \n",
       "1  0.02731   0.0   7.07   0.0  0.469  6.421  78.9  4.9671  2.0  242.0   \n",
       "2  0.02729   0.0   7.07   0.0  0.469  7.185  61.1  4.9671  2.0  242.0   \n",
       "\n",
       "   PTRATIO       B  LSTAT  PRICE  \n",
       "0     15.3  396.90   4.98   24.0  \n",
       "1     17.8  396.90   9.14   21.6  \n",
       "2     17.8  392.83   4.03   34.7  "
      ]
     },
     "execution_count": 1,
     "metadata": {},
     "output_type": "execute_result"
    }
   ],
   "source": [
    "import numpy as np\n",
    "import pandas as pd\n",
    "import matplotlib.pyplot as plt\n",
    "import seaborn as sns\n",
    "from scipy import stats\n",
    "from sklearn.datasets import load_boston\n",
    "%matplotlib inline\n",
    "\n",
    "boston = load_boston()\n",
    "df = pd.DataFrame(boston.data, columns=boston.feature_names)\n",
    "df['PRICE'] = boston.target\n",
    "print(df.info())\n",
    "df.head(3)"
   ]
  },
  {
   "cell_type": "markdown",
   "metadata": {},
   "source": [
    "**matplotlib.subplots()**를 이용해 각 칼럼이 회귀 결과에 미치는 영향 파악 (PRICE와의 관계 표현)"
   ]
  },
  {
   "cell_type": "code",
   "execution_count": 2,
   "metadata": {
    "scrolled": true
   },
   "outputs": [
    {
     "data": {
      "image/png": "[encoded data removed]",
      "text/plain": [
       "<Figure size 1152x576 with 8 Axes>"
      ]
     },
     "metadata": {
      "needs_background": "light"
     },
     "output_type": "display_data"
    }
   ],
   "source": [
    "# 2개의 행과 4개의 열을 가진 subplots\n",
    "fig, axs = plt.subplots(figsize=(16,8), ncols=4, nrows=2)\n",
    "lm_features = ['RM','ZN','INDUS','NOX','AGE','PTRATIO','LSTAT','RAD']\n",
    "for i, feature in enumerate(lm_features):\n",
    "    row = int(i/4)\n",
    "    col = i%4\n",
    "    # 산점도와 선형 회귀 직선을 함께 표현\n",
    "    sns.regplot(x=feature, y='PRICE', data=df, ax=axs[row][col])"
   ]
  },
  {
   "cell_type": "markdown",
   "metadata": {},
   "source": [
    "RM(방 개수)가 많을수록, LSTAT(하위 계층의 비율)이 적을수록 가격이 증가하는 모습이 확연히 나타남\n",
    "\n",
    "**LinearRegression 클래스**를 이용해 보스턴 주택 가격의 회귀 모델 생성"
   ]
  },
  {
   "cell_type": "code",
   "execution_count": 3,
   "metadata": {},
   "outputs": [
    {
     "name": "stdout",
     "output_type": "stream",
     "text": [
      "MSE : 17.297, RMSE : 4.159\n",
      "Variance Score : 0.757\n"
     ]
    }
   ],
   "source": [
    "from sklearn.model_selection import train_test_split\n",
    "from sklearn.linear_model import LinearRegression\n",
    "from sklearn.metrics import mean_squared_error, r2_score\n",
    "\n",
    "y_target = df['PRICE']\n",
    "X_data = df.drop(['PRICE'], axis=1, inplace=False)\n",
    "\n",
    "X_train, X_test, y_train, y_test = train_test_split(X_data, y_target, test_size=0.3, random_state=156)\n",
    "\n",
    "lr = LinearRegression()\n",
    "lr.fit(X_train, y_train)\n",
    "y_preds = lr.predict(X_test)\n",
    "mse = mean_squared_error(y_test, y_preds)\n",
    "rmse = np.sqrt(mse)\n",
    "\n",
    "print('MSE : {0:.3f}, RMSE : {1:.3f}'.format(mse, rmse))\n",
    "print('Variance Score : {0:.3f}'.format(r2_score(y_test, y_preds)))"
   ]
  },
  {
   "cell_type": "code",
   "execution_count": 4,
   "metadata": {},
   "outputs": [
    {
     "name": "stdout",
     "output_type": "stream",
     "text": [
      "절편 값:  40.995595172164336\n",
      "회귀 계수값:  [ -0.1   0.1   0.    3.  -19.8   3.4   0.   -1.7   0.4  -0.   -0.9   0.\n",
      "  -0.6]\n"
     ]
    }
   ],
   "source": [
    "print('절편 값: ', lr.intercept_)\n",
    "print('회귀 계수값: ', np.round(lr.coef_, 1))"
   ]
  },
  {
   "cell_type": "code",
   "execution_count": 5,
   "metadata": {},
   "outputs": [
    {
     "data": {
      "text/plain": [
       "RM          3.4\n",
       "CHAS        3.0\n",
       "RAD         0.4\n",
       "ZN          0.1\n",
       "B           0.0\n",
       "TAX        -0.0\n",
       "AGE         0.0\n",
       "INDUS       0.0\n",
       "CRIM       -0.1\n",
       "LSTAT      -0.6\n",
       "PTRATIO    -0.9\n",
       "DIS        -1.7\n",
       "NOX       -19.8\n",
       "dtype: float64"
      ]
     },
     "execution_count": 5,
     "metadata": {},
     "output_type": "execute_result"
    }
   ],
   "source": [
    "# 회귀 계수를 큰 값부터 정렬\n",
    "coeff = pd.Series(data=np.round(lr.coef_, 1), index=X_data.columns)\n",
    "coeff.sort_values(ascending=False)"
   ]
  },
  {
   "cell_type": "markdown",
   "metadata": {},
   "source": [
    "**cross_val_score()**를 이용해 5개 폴드 세트에서 교차 검증으로 MSE와 RMSE 측정\n",
    "\n",
    "회귀는 MSE 값이 낮을수록 좋은 회귀 모델이므로 인자로 scoring='neg_mean_squared_error'를 지정하는데,\n",
    "\n",
    "이 때 반환되는 수치 값은 음수이므로 -1을 곱하고 sqrt() 함수를 적용해 RMSE를 구함"
   ]
  },
  {
   "cell_type": "code",
   "execution_count": 6,
   "metadata": {},
   "outputs": [
    {
     "name": "stdout",
     "output_type": "stream",
     "text": [
      "개별 Negative MSE :  [-12.46 -26.05 -33.07 -80.76 -33.31]\n",
      "개별 RMSE :  [3.53 5.1  5.75 8.99 5.77]\n",
      "평균 RMSE : 5.829\n"
     ]
    }
   ],
   "source": [
    "from sklearn.model_selection import cross_val_score\n",
    "\n",
    "y_target = df['PRICE']\n",
    "X_data = df.drop(['PRICE'], axis=1, inplace=False)\n",
    "lr = LinearRegression()\n",
    "\n",
    "neg_mse = cross_val_score(lr, X_data, y_target, scoring='neg_mean_squared_error', cv=5)\n",
    "rmse = np.sqrt(-1 * neg_mse)\n",
    "avg_rmse = np.mean(rmse)\n",
    "\n",
    "print('개별 Negative MSE : ', np.round(neg_mse, 2))\n",
    "print('개별 RMSE : ', np.round(rmse, 2))\n",
    "print('평균 RMSE : {0:.3f}'.format(avg_rmse))"
   ]
  },
  {
   "cell_type": "markdown",
   "metadata": {},
   "source": [
    "## 1.5 다항 회귀와 과(대)적합/과소적합 이해\n",
    "\n",
    "- 다항 회귀 : 2차, 3차 방정식과 같은 다항식으로 표현되는 선형 회귀\n",
    "\n",
    "사이킷런은 다항 회귀 클래스를 제공하지 않지만, 비선형 함수를 선형 모델에 적용시키는 방법을 사용해 구현\n",
    "\n",
    "이를 위해 **PolynomialFeatures 클래스**를 통해 피처를 Polynomial(다항식) 피처로 변환"
   ]
  },
  {
   "cell_type": "code",
   "execution_count": 7,
   "metadata": {},
   "outputs": [
    {
     "name": "stdout",
     "output_type": "stream",
     "text": [
      "일차 단항식 계수 피처: \n",
      " [[0 1]\n",
      " [2 3]]\n",
      "변환된 2차 다항식 계수 피처: \n",
      " [[1. 0. 1. 0. 0. 1.]\n",
      " [1. 2. 3. 4. 6. 9.]]\n"
     ]
    }
   ],
   "source": [
    "from sklearn.preprocessing import PolynomialFeatures\n",
    "import numpy as np\n",
    "\n",
    "# [[0,1], [2,3]]의 2X2 행렬 (단항식) 생성\n",
    "X = np.arange(4).reshape(2,2)\n",
    "print('일차 단항식 계수 피처: \\n', X)\n",
    "\n",
    "# 2차 다항식 (degree=2) 으로 변환\n",
    "poly = PolynomialFeatures(degree=2)\n",
    "poly.fit(X)\n",
    "poly_ftr = poly.transform(X)\n",
    "print('변환된 2차 다항식 계수 피처: \\n', poly_ftr)"
   ]
  },
  {
   "cell_type": "markdown",
   "metadata": {},
   "source": [
    "단항 계수 피처 : [x1, x2]\n",
    "\n",
    "2차 다항 계수 피처 : [1, x1, x2, x1제곱, x1x2, x2제곱]"
   ]
  },
  {
   "cell_type": "markdown",
   "metadata": {},
   "source": [
    "**PolynomialFeatures와 LinearRegression 클래스, Pipeline 객체**를 이용해 3차 다항 회귀 함수식 유도\n",
    "\n",
    "3차 다항 회귀 함수를 임의로 설정하고, 일차 단항식 계수를 삼차 다항식 계수로 변환하여 선형 회귀에 적용"
   ]
  },
  {
   "cell_type": "code",
   "execution_count": 8,
   "metadata": {},
   "outputs": [
    {
     "name": "stdout",
     "output_type": "stream",
     "text": [
      "Polynomial 회귀 계수\n",
      " [0.   0.18 0.18 0.36 0.54 0.72 0.72 1.08 1.62 2.34]\n"
     ]
    }
   ],
   "source": [
    "from sklearn.preprocessing import PolynomialFeatures\n",
    "from sklearn.linear_model import LinearRegression\n",
    "from sklearn.pipeline import Pipeline\n",
    "import numpy as np\n",
    "\n",
    "def polynomial_func(X):\n",
    "    y = 1 + 2*X[:,0] + 3*X[:,0]**2 + 4*X[:,1]**3\n",
    "    return y\n",
    "\n",
    "# Pipeline 객체로 3차 다항식 변환과 Linear Regression 연결\n",
    "model = Pipeline([('poly', PolynomialFeatures(degree=3)), ('linear', LinearRegression())])\n",
    "\n",
    "X = np.arange(4).reshape(2,2)   # 일차 단항식 계수 피처\n",
    "y = polynomial_func(X)          # 3차 다항식 결정값\n",
    "\n",
    "model = model.fit(X, y)\n",
    "print('Polynomial 회귀 계수\\n', np.round(model.named_steps['linear'].coef_, 2))"
   ]
  },
  {
   "cell_type": "markdown",
   "metadata": {},
   "source": [
    "3차 다항 계수 피처 : [1, x1, x2, x1제곱, x1x2, x2제곱, x1세제곱, x1제곱x2, x1x2제곱, x1세제곱]\n",
    "\n",
    "원래 다항식의 계수 값인 [1, 2, 0, 3, 0, 0, 0, 0, 0, 4]와는 차이가 있지만 다항 회귀로 근사하고 있음"
   ]
  },
  {
   "cell_type": "markdown",
   "metadata": {},
   "source": [
    "### 1.5.1 다항 회귀를 이용한 과소적합 및 과적합 이해"
   ]
  },
  {
   "cell_type": "code",
   "execution_count": 9,
   "metadata": {},
   "outputs": [
    {
     "name": "stdout",
     "output_type": "stream",
     "text": [
      "\n",
      "Degree 1 회귀 계수: [-1.61]\n",
      "Degree 1 MSE: 0.40772896250986834\n",
      "\n",
      "Degree 4 회귀 계수: [  0.47 -17.79  23.59  -7.26]\n",
      "Degree 4 MSE: 0.04320874987231747\n",
      "\n",
      "Degree 15 회귀 계수: [-2.98295000e+03  1.03899930e+05 -1.87417069e+06  2.03717225e+07\n",
      " -1.44873988e+08  7.09318780e+08 -2.47066977e+09  6.24564048e+09\n",
      " -1.15677067e+10  1.56895696e+10 -1.54006776e+10  1.06457788e+10\n",
      " -4.91379977e+09  1.35920330e+09 -1.70381654e+08]\n",
      "Degree 15 MSE: 182815433.47648773\n"
     ]
    },
    {
     "data": {
      "image/png": "[encoded data removed]",
      "text/plain": [
       "<Figure size 1008x360 with 3 Axes>"
      ]
     },
     "metadata": {},
     "output_type": "display_data"
    }
   ],
   "source": [
    "import numpy as np\n",
    "import matplotlib.pyplot as plt\n",
    "from sklearn.pipeline import Pipeline\n",
    "from sklearn.preprocessing import PolynomialFeatures\n",
    "from sklearn.linear_model import LinearRegression\n",
    "from sklearn.model_selection import cross_val_score\n",
    "%matplotlib inline\n",
    "\n",
    "# 임의의 값으로 구성된 X의 코사인 변환 값 반환\n",
    "def true_fun(X):\n",
    "    return np.cos(1.5 * np.pi * X)\n",
    "\n",
    "# X는 0부터 1까지 30개의 임의의 값\n",
    "np.random.seed(0)\n",
    "n_samples = 30\n",
    "X = np.sort(np.random.rand(n_samples))\n",
    "\n",
    "# y는 true_fun()에서 약간의 노이즈 변동 추가\n",
    "y = true_fun(X) + np.random.randn(n_samples) * 0.1\n",
    "\n",
    "plt.figure(figsize=(14,5))\n",
    "degrees = [1,4,15]\n",
    "\n",
    "# 다항 회귀의 차수를 1,4,15로 변화시키면서 비교\n",
    "for i in range(len(degrees)):\n",
    "    ax = plt.subplot(1, len(degrees), i+1)\n",
    "    plt.setp(ax, xticks=(), yticks=())\n",
    "    \n",
    "    pf = PolynomialFeatures(degree=degrees[i], include_bias=False)\n",
    "    lr = LinearRegression()\n",
    "    pipeline = Pipeline([('pf', pf), ('lr', lr)])\n",
    "    pipeline.fit(X.reshape(-1,1), y)\n",
    "    \n",
    "    # 교차 검증으로 다항 회귀 평가\n",
    "    scores = cross_val_score(pipeline, X.reshape(-1,1), y, scoring='neg_mean_squared_error', cv=10)\n",
    "    \n",
    "    # named_steps['객체명']으 이용해 회귀계수 추출\n",
    "    coefficients = pipeline.named_steps['lr'].coef_\n",
    "    print('\\nDegree {0} 회귀 계수: {1}'.format(degrees[i], np.round(coefficients, 2)))\n",
    "    print('Degree {0} MSE: {1}'.format(degrees[i], -1*np.mean(scores)))\n",
    "    \n",
    "    # 0부터 1까지 테스트 데이터 세트를 100개로 나눠 예측을 수행하고 곡선 비교\n",
    "    X_test = np.linspace(0,1,100)\n",
    "    plt.plot(X_test, pipeline.predict(X_test[:, np.newaxis]), label='Model')   # 예측값\n",
    "    plt.plot(X_test, true_fun(X_test), '--', label='True function')            # 실제 값\n",
    "    plt.scatter(X, y, edgecolor='b', s=20, label='Samples')\n",
    "    plt.xlabel('x'); plt.ylabel('y'); plt.xlim((0,1)); plt.ylim((-2,2)); plt.legend(loc='best')\n",
    "    plt.title('Degree {}'.format(degrees[i]))\n",
    "plt.show()"
   ]
  },
  {
   "cell_type": "markdown",
   "metadata": {},
   "source": [
    "**다항 회귀의 차수(degree)를 높일수록 과적합의 문제로 인해 예측 정확도가 떨어질 수 있음**\n",
    "\n",
    "좋은 예측 모델은 과소적합, 과적합 모델이 아닌 Degree 4와 같이 균형 잡힌 모델을 의미"
   ]
  },
  {
   "cell_type": "markdown",
   "metadata": {},
   "source": [
    "### 1.5.2 편향-분산 트레이드오프(Bias-Variance Trade off)\n",
    "\n",
    "일반적으로 편향이 높으면 분산은 낮아지고(과소적합), 분산이 높으면 편향이 낮아짐(과적합)\n",
    "\n",
    "**편향을 낮추고 분산을 높이면서(트레이드오프) 오류 Cost 값이 최대로 낮아지는 모델**을 구축해야 함"
   ]
  },
  {
   "cell_type": "markdown",
   "metadata": {},
   "source": [
    "## 1.6 규제 선형 모델 - 릿지, 라쏘, 엘라스틱넷"
   ]
  },
  {
   "cell_type": "markdown",
   "metadata": {},
   "source": [
    "### 1.6.1 규제 선형 모델의 개요\n",
    "\n",
    "비용 함수는 RSS 최소화 방법과 회귀 계수 값이 커지지 않도록 하는 방법이 서로 균형을 이뤄야 함 ( Min(RSS(W) + alpha*W제곱) )\n",
    "\n",
    "- L2 규제 : W의 제곱에 대해 페널티를 부여하여 **회귀 계수 W를 감소**시키는 방식 (릿지)\n",
    "\n",
    "\n",
    "- L1 규제 : W의 절댓값에 페널티를 부여하여 불필요한 **회귀 계수 W를 0으로 변환**하는 방식 (라쏘)\n",
    "\n",
    "**alpha 값을 증가시키면 회귀 계수의 크기를 감소시킬 수 있음**"
   ]
  },
  {
   "cell_type": "code",
   "execution_count": 20,
   "metadata": {},
   "outputs": [],
   "source": [
    "from sklearn.linear_model import Ridge, Lasso, ElasticNet\n",
    "from sklearn.model_selection import cross_val_score\n",
    "import warnings\n",
    "warnings.filterwarnings('ignore')\n",
    "\n",
    "def get_linear_reg_eval(model_name, params=None, X_data_n=None, y_target_n=None, verbose=True):\n",
    "    coeff_df = pd.DataFrame()\n",
    "    if verbose : print('#######', model_name, '#######')\n",
    "    for param in params:\n",
    "        if model_name == 'Ridge': model = Ridge(alpha=param)\n",
    "        elif model_name == 'Lasso': model = Lasso(alpha=param)\n",
    "        elif model_name == 'ElasticNet': model = ElasticNet(alpha=param, l1_ratio=0.7)\n",
    "        neg_mse_scores = cross_val_score(model, X_data_n, y_target_n, scoring='neg_mean_squared_error', cv=5)\n",
    "        avg_rmse = np.mean(np.sqrt(-1 * neg_mse_scores))\n",
    "        print('alpha가 {0}일 때 평균 RMSE: {1:.3f}'.format(param, avg_rmse))\n",
    "        \n",
    "        model.fit(X_data, y_target)\n",
    "        coeff = pd.Series(data=model.coef_, index=X_data.columns)\n",
    "        colname = 'alpha:' + str(param)\n",
    "        coeff_df[colname] = coeff\n",
    "    return coeff_df"
   ]
  },
  {
   "cell_type": "markdown",
   "metadata": {},
   "source": [
    "### 1.6.2 릿지 회귀"
   ]
  },
  {
   "cell_type": "code",
   "execution_count": 23,
   "metadata": {},
   "outputs": [
    {
     "name": "stdout",
     "output_type": "stream",
     "text": [
      "####### Ridge #######\n",
      "alpha가 0일 때 평균 RMSE: 5.829\n",
      "alpha가 0.1일 때 평균 RMSE: 5.788\n",
      "alpha가 1일 때 평균 RMSE: 5.653\n",
      "alpha가 10일 때 평균 RMSE: 5.518\n",
      "alpha가 100일 때 평균 RMSE: 5.330\n"
     ]
    }
   ],
   "source": [
    "ridge_alphas = [0,0.1,1,10,100]\n",
    "coeff_ridge_df = get_linear_reg_eval('Ridge', params=ridge_alphas, X_data_n=X_data, y_target_n=y_target)"
   ]
  },
  {
   "cell_type": "code",
   "execution_count": 24,
   "metadata": {},
   "outputs": [
    {
     "data": {
      "text/html": [
       "<div>\n",
       "<style scoped>\n",
       "    .dataframe tbody tr th:only-of-type {\n",
       "        vertical-align: middle;\n",
       "    }\n",
       "\n",
       "    .dataframe tbody tr th {\n",
       "        vertical-align: top;\n",
       "    }\n",
       "\n",
       "    .dataframe thead th {\n",
       "        text-align: right;\n",
       "    }\n",
       "</style>\n",
       "<table border=\"1\" class=\"dataframe\">\n",
       "  <thead>\n",
       "    <tr style=\"text-align: right;\">\n",
       "      <th></th>\n",
       "      <th>alpha:0</th>\n",
       "      <th>alpha:0.1</th>\n",
       "      <th>alpha:1</th>\n",
       "      <th>alpha:10</th>\n",
       "      <th>alpha:100</th>\n",
       "    </tr>\n",
       "  </thead>\n",
       "  <tbody>\n",
       "    <tr>\n",
       "      <th>RM</th>\n",
       "      <td>3.809865</td>\n",
       "      <td>3.818233</td>\n",
       "      <td>3.854000</td>\n",
       "      <td>3.702272</td>\n",
       "      <td>2.334536</td>\n",
       "    </tr>\n",
       "    <tr>\n",
       "      <th>CHAS</th>\n",
       "      <td>2.686734</td>\n",
       "      <td>2.670019</td>\n",
       "      <td>2.552393</td>\n",
       "      <td>1.952021</td>\n",
       "      <td>0.638335</td>\n",
       "    </tr>\n",
       "    <tr>\n",
       "      <th>RAD</th>\n",
       "      <td>0.306049</td>\n",
       "      <td>0.303515</td>\n",
       "      <td>0.290142</td>\n",
       "      <td>0.279596</td>\n",
       "      <td>0.315358</td>\n",
       "    </tr>\n",
       "    <tr>\n",
       "      <th>ZN</th>\n",
       "      <td>0.046420</td>\n",
       "      <td>0.046572</td>\n",
       "      <td>0.047443</td>\n",
       "      <td>0.049579</td>\n",
       "      <td>0.054496</td>\n",
       "    </tr>\n",
       "    <tr>\n",
       "      <th>INDUS</th>\n",
       "      <td>0.020559</td>\n",
       "      <td>0.015999</td>\n",
       "      <td>-0.008805</td>\n",
       "      <td>-0.042962</td>\n",
       "      <td>-0.052826</td>\n",
       "    </tr>\n",
       "    <tr>\n",
       "      <th>B</th>\n",
       "      <td>0.009312</td>\n",
       "      <td>0.009368</td>\n",
       "      <td>0.009673</td>\n",
       "      <td>0.010037</td>\n",
       "      <td>0.009393</td>\n",
       "    </tr>\n",
       "    <tr>\n",
       "      <th>AGE</th>\n",
       "      <td>0.000692</td>\n",
       "      <td>-0.000269</td>\n",
       "      <td>-0.005415</td>\n",
       "      <td>-0.010707</td>\n",
       "      <td>0.001212</td>\n",
       "    </tr>\n",
       "    <tr>\n",
       "      <th>TAX</th>\n",
       "      <td>-0.012335</td>\n",
       "      <td>-0.012421</td>\n",
       "      <td>-0.012912</td>\n",
       "      <td>-0.013993</td>\n",
       "      <td>-0.015856</td>\n",
       "    </tr>\n",
       "    <tr>\n",
       "      <th>CRIM</th>\n",
       "      <td>-0.108011</td>\n",
       "      <td>-0.107474</td>\n",
       "      <td>-0.104595</td>\n",
       "      <td>-0.101435</td>\n",
       "      <td>-0.102202</td>\n",
       "    </tr>\n",
       "    <tr>\n",
       "      <th>LSTAT</th>\n",
       "      <td>-0.524758</td>\n",
       "      <td>-0.525966</td>\n",
       "      <td>-0.533343</td>\n",
       "      <td>-0.559366</td>\n",
       "      <td>-0.660764</td>\n",
       "    </tr>\n",
       "    <tr>\n",
       "      <th>PTRATIO</th>\n",
       "      <td>-0.952747</td>\n",
       "      <td>-0.940759</td>\n",
       "      <td>-0.876074</td>\n",
       "      <td>-0.797945</td>\n",
       "      <td>-0.829218</td>\n",
       "    </tr>\n",
       "    <tr>\n",
       "      <th>DIS</th>\n",
       "      <td>-1.475567</td>\n",
       "      <td>-1.459626</td>\n",
       "      <td>-1.372654</td>\n",
       "      <td>-1.248808</td>\n",
       "      <td>-1.153390</td>\n",
       "    </tr>\n",
       "    <tr>\n",
       "      <th>NOX</th>\n",
       "      <td>-17.766611</td>\n",
       "      <td>-16.684645</td>\n",
       "      <td>-10.777015</td>\n",
       "      <td>-2.371619</td>\n",
       "      <td>-0.262847</td>\n",
       "    </tr>\n",
       "  </tbody>\n",
       "</table>\n",
       "</div>"
      ],
      "text/plain": [
       "           alpha:0  alpha:0.1    alpha:1  alpha:10  alpha:100\n",
       "RM        3.809865   3.818233   3.854000  3.702272   2.334536\n",
       "CHAS      2.686734   2.670019   2.552393  1.952021   0.638335\n",
       "RAD       0.306049   0.303515   0.290142  0.279596   0.315358\n",
       "ZN        0.046420   0.046572   0.047443  0.049579   0.054496\n",
       "INDUS     0.020559   0.015999  -0.008805 -0.042962  -0.052826\n",
       "B         0.009312   0.009368   0.009673  0.010037   0.009393\n",
       "AGE       0.000692  -0.000269  -0.005415 -0.010707   0.001212\n",
       "TAX      -0.012335  -0.012421  -0.012912 -0.013993  -0.015856\n",
       "CRIM     -0.108011  -0.107474  -0.104595 -0.101435  -0.102202\n",
       "LSTAT    -0.524758  -0.525966  -0.533343 -0.559366  -0.660764\n",
       "PTRATIO  -0.952747  -0.940759  -0.876074 -0.797945  -0.829218\n",
       "DIS      -1.475567  -1.459626  -1.372654 -1.248808  -1.153390\n",
       "NOX     -17.766611 -16.684645 -10.777015 -2.371619  -0.262847"
      ]
     },
     "execution_count": 24,
     "metadata": {},
     "output_type": "execute_result"
    }
   ],
   "source": [
    "sort_column = 'alpha:' + str(ridge_alphas[0])\n",
    "coeff_ridge_df.sort_values(by=sort_column, ascending=False)"
   ]
  },
  {
   "cell_type": "markdown",
   "metadata": {},
   "source": [
    "### 1.6.3 라쏘 회귀"
   ]
  },
  {
   "cell_type": "code",
   "execution_count": 27,
   "metadata": {},
   "outputs": [
    {
     "name": "stdout",
     "output_type": "stream",
     "text": [
      "####### Lasso #######\n",
      "alpha가 0.07일 때 평균 RMSE: 5.612\n",
      "alpha가 0.1일 때 평균 RMSE: 5.615\n",
      "alpha가 0.5일 때 평균 RMSE: 5.669\n",
      "alpha가 1일 때 평균 RMSE: 5.776\n",
      "alpha가 3일 때 평균 RMSE: 6.189\n"
     ]
    }
   ],
   "source": [
    "lasso_alphas = [0.07,0.1,0.5,1,3]\n",
    "coeff_lasso_df = get_linear_reg_eval('Lasso', params=lasso_alphas, X_data_n=X_data, y_target_n=y_target)"
   ]
  },
  {
   "cell_type": "code",
   "execution_count": 28,
   "metadata": {},
   "outputs": [
    {
     "data": {
      "text/html": [
       "<div>\n",
       "<style scoped>\n",
       "    .dataframe tbody tr th:only-of-type {\n",
       "        vertical-align: middle;\n",
       "    }\n",
       "\n",
       "    .dataframe tbody tr th {\n",
       "        vertical-align: top;\n",
       "    }\n",
       "\n",
       "    .dataframe thead th {\n",
       "        text-align: right;\n",
       "    }\n",
       "</style>\n",
       "<table border=\"1\" class=\"dataframe\">\n",
       "  <thead>\n",
       "    <tr style=\"text-align: right;\">\n",
       "      <th></th>\n",
       "      <th>alpha:0.07</th>\n",
       "      <th>alpha:0.1</th>\n",
       "      <th>alpha:0.5</th>\n",
       "      <th>alpha:1</th>\n",
       "      <th>alpha:3</th>\n",
       "    </tr>\n",
       "  </thead>\n",
       "  <tbody>\n",
       "    <tr>\n",
       "      <th>RM</th>\n",
       "      <td>3.789725</td>\n",
       "      <td>3.703202</td>\n",
       "      <td>2.498212</td>\n",
       "      <td>0.949811</td>\n",
       "      <td>0.000000</td>\n",
       "    </tr>\n",
       "    <tr>\n",
       "      <th>CHAS</th>\n",
       "      <td>1.434343</td>\n",
       "      <td>0.955190</td>\n",
       "      <td>0.000000</td>\n",
       "      <td>0.000000</td>\n",
       "      <td>0.000000</td>\n",
       "    </tr>\n",
       "    <tr>\n",
       "      <th>RAD</th>\n",
       "      <td>0.270936</td>\n",
       "      <td>0.274707</td>\n",
       "      <td>0.277451</td>\n",
       "      <td>0.264206</td>\n",
       "      <td>0.061864</td>\n",
       "    </tr>\n",
       "    <tr>\n",
       "      <th>ZN</th>\n",
       "      <td>0.049059</td>\n",
       "      <td>0.049211</td>\n",
       "      <td>0.049544</td>\n",
       "      <td>0.049165</td>\n",
       "      <td>0.037231</td>\n",
       "    </tr>\n",
       "    <tr>\n",
       "      <th>B</th>\n",
       "      <td>0.010248</td>\n",
       "      <td>0.010249</td>\n",
       "      <td>0.009469</td>\n",
       "      <td>0.008247</td>\n",
       "      <td>0.006510</td>\n",
       "    </tr>\n",
       "    <tr>\n",
       "      <th>NOX</th>\n",
       "      <td>-0.000000</td>\n",
       "      <td>-0.000000</td>\n",
       "      <td>-0.000000</td>\n",
       "      <td>-0.000000</td>\n",
       "      <td>0.000000</td>\n",
       "    </tr>\n",
       "    <tr>\n",
       "      <th>AGE</th>\n",
       "      <td>-0.011706</td>\n",
       "      <td>-0.010037</td>\n",
       "      <td>0.003604</td>\n",
       "      <td>0.020910</td>\n",
       "      <td>0.042495</td>\n",
       "    </tr>\n",
       "    <tr>\n",
       "      <th>TAX</th>\n",
       "      <td>-0.014290</td>\n",
       "      <td>-0.014570</td>\n",
       "      <td>-0.015442</td>\n",
       "      <td>-0.015212</td>\n",
       "      <td>-0.008602</td>\n",
       "    </tr>\n",
       "    <tr>\n",
       "      <th>INDUS</th>\n",
       "      <td>-0.042120</td>\n",
       "      <td>-0.036619</td>\n",
       "      <td>-0.005253</td>\n",
       "      <td>-0.000000</td>\n",
       "      <td>-0.000000</td>\n",
       "    </tr>\n",
       "    <tr>\n",
       "      <th>CRIM</th>\n",
       "      <td>-0.098193</td>\n",
       "      <td>-0.097894</td>\n",
       "      <td>-0.083289</td>\n",
       "      <td>-0.063437</td>\n",
       "      <td>-0.000000</td>\n",
       "    </tr>\n",
       "    <tr>\n",
       "      <th>LSTAT</th>\n",
       "      <td>-0.560431</td>\n",
       "      <td>-0.568769</td>\n",
       "      <td>-0.656290</td>\n",
       "      <td>-0.761115</td>\n",
       "      <td>-0.807679</td>\n",
       "    </tr>\n",
       "    <tr>\n",
       "      <th>PTRATIO</th>\n",
       "      <td>-0.765107</td>\n",
       "      <td>-0.770654</td>\n",
       "      <td>-0.758752</td>\n",
       "      <td>-0.722966</td>\n",
       "      <td>-0.265072</td>\n",
       "    </tr>\n",
       "    <tr>\n",
       "      <th>DIS</th>\n",
       "      <td>-1.176583</td>\n",
       "      <td>-1.160538</td>\n",
       "      <td>-0.936605</td>\n",
       "      <td>-0.668790</td>\n",
       "      <td>-0.000000</td>\n",
       "    </tr>\n",
       "  </tbody>\n",
       "</table>\n",
       "</div>"
      ],
      "text/plain": [
       "         alpha:0.07  alpha:0.1  alpha:0.5   alpha:1   alpha:3\n",
       "RM         3.789725   3.703202   2.498212  0.949811  0.000000\n",
       "CHAS       1.434343   0.955190   0.000000  0.000000  0.000000\n",
       "RAD        0.270936   0.274707   0.277451  0.264206  0.061864\n",
       "ZN         0.049059   0.049211   0.049544  0.049165  0.037231\n",
       "B          0.010248   0.010249   0.009469  0.008247  0.006510\n",
       "NOX       -0.000000  -0.000000  -0.000000 -0.000000  0.000000\n",
       "AGE       -0.011706  -0.010037   0.003604  0.020910  0.042495\n",
       "TAX       -0.014290  -0.014570  -0.015442 -0.015212 -0.008602\n",
       "INDUS     -0.042120  -0.036619  -0.005253 -0.000000 -0.000000\n",
       "CRIM      -0.098193  -0.097894  -0.083289 -0.063437 -0.000000\n",
       "LSTAT     -0.560431  -0.568769  -0.656290 -0.761115 -0.807679\n",
       "PTRATIO   -0.765107  -0.770654  -0.758752 -0.722966 -0.265072\n",
       "DIS       -1.176583  -1.160538  -0.936605 -0.668790 -0.000000"
      ]
     },
     "execution_count": 28,
     "metadata": {},
     "output_type": "execute_result"
    }
   ],
   "source": [
    "sort_column = 'alpha:' + str(lasso_alphas[0])\n",
    "coeff_lasso_df.sort_values(by=sort_column, ascending=False)"
   ]
  },
  {
   "cell_type": "markdown",
   "metadata": {},
   "source": [
    "### 1.6.4 엘라스틱넷 회귀\n",
    "\n",
    "라쏘 회귀와 같이 회귀 계수를 0으로 만드는 성향이 강하며, 이로 인해 alpha값에 따라 회귀 계수가 급격히 변동하는 것을 방지하기 위해 L2 규제를 추가\n",
    "\n",
    "alpha값의 변화만 살피기 위해 앞서 생성한 get_linear_reg_eval() 함수에서 l1_ratio를 미리 고정"
   ]
  },
  {
   "cell_type": "code",
   "execution_count": 29,
   "metadata": {},
   "outputs": [
    {
     "name": "stdout",
     "output_type": "stream",
     "text": [
      "####### ElasticNet #######\n",
      "alpha가 0.07일 때 평균 RMSE: 5.542\n",
      "alpha가 0.1일 때 평균 RMSE: 5.526\n",
      "alpha가 0.5일 때 평균 RMSE: 5.467\n",
      "alpha가 1일 때 평균 RMSE: 5.597\n",
      "alpha가 3일 때 평균 RMSE: 6.068\n"
     ]
    }
   ],
   "source": [
    "elastic_alphas = [0.07,0.1,0.5,1,3]\n",
    "coeff_elastic_df = get_linear_reg_eval('ElasticNet', params=elastic_alphas, X_data_n=X_data, y_target_n=y_target)"
   ]
  },
  {
   "cell_type": "code",
   "execution_count": 30,
   "metadata": {},
   "outputs": [
    {
     "data": {
      "text/html": [
       "<div>\n",
       "<style scoped>\n",
       "    .dataframe tbody tr th:only-of-type {\n",
       "        vertical-align: middle;\n",
       "    }\n",
       "\n",
       "    .dataframe tbody tr th {\n",
       "        vertical-align: top;\n",
       "    }\n",
       "\n",
       "    .dataframe thead th {\n",
       "        text-align: right;\n",
       "    }\n",
       "</style>\n",
       "<table border=\"1\" class=\"dataframe\">\n",
       "  <thead>\n",
       "    <tr style=\"text-align: right;\">\n",
       "      <th></th>\n",
       "      <th>alpha:0.07</th>\n",
       "      <th>alpha:0.1</th>\n",
       "      <th>alpha:0.5</th>\n",
       "      <th>alpha:1</th>\n",
       "      <th>alpha:3</th>\n",
       "    </tr>\n",
       "  </thead>\n",
       "  <tbody>\n",
       "    <tr>\n",
       "      <th>RM</th>\n",
       "      <td>3.574162</td>\n",
       "      <td>3.414154</td>\n",
       "      <td>1.918419</td>\n",
       "      <td>0.938789</td>\n",
       "      <td>0.000000</td>\n",
       "    </tr>\n",
       "    <tr>\n",
       "      <th>CHAS</th>\n",
       "      <td>1.330724</td>\n",
       "      <td>0.979706</td>\n",
       "      <td>0.000000</td>\n",
       "      <td>0.000000</td>\n",
       "      <td>0.000000</td>\n",
       "    </tr>\n",
       "    <tr>\n",
       "      <th>RAD</th>\n",
       "      <td>0.278880</td>\n",
       "      <td>0.283443</td>\n",
       "      <td>0.300761</td>\n",
       "      <td>0.289299</td>\n",
       "      <td>0.146846</td>\n",
       "    </tr>\n",
       "    <tr>\n",
       "      <th>ZN</th>\n",
       "      <td>0.050107</td>\n",
       "      <td>0.050617</td>\n",
       "      <td>0.052878</td>\n",
       "      <td>0.052136</td>\n",
       "      <td>0.038268</td>\n",
       "    </tr>\n",
       "    <tr>\n",
       "      <th>B</th>\n",
       "      <td>0.010122</td>\n",
       "      <td>0.010067</td>\n",
       "      <td>0.009114</td>\n",
       "      <td>0.008320</td>\n",
       "      <td>0.007020</td>\n",
       "    </tr>\n",
       "    <tr>\n",
       "      <th>AGE</th>\n",
       "      <td>-0.010116</td>\n",
       "      <td>-0.008276</td>\n",
       "      <td>0.007760</td>\n",
       "      <td>0.020348</td>\n",
       "      <td>0.043446</td>\n",
       "    </tr>\n",
       "    <tr>\n",
       "      <th>TAX</th>\n",
       "      <td>-0.014522</td>\n",
       "      <td>-0.014814</td>\n",
       "      <td>-0.016046</td>\n",
       "      <td>-0.016218</td>\n",
       "      <td>-0.011417</td>\n",
       "    </tr>\n",
       "    <tr>\n",
       "      <th>INDUS</th>\n",
       "      <td>-0.044855</td>\n",
       "      <td>-0.042719</td>\n",
       "      <td>-0.023252</td>\n",
       "      <td>-0.000000</td>\n",
       "      <td>-0.000000</td>\n",
       "    </tr>\n",
       "    <tr>\n",
       "      <th>CRIM</th>\n",
       "      <td>-0.099468</td>\n",
       "      <td>-0.099213</td>\n",
       "      <td>-0.089070</td>\n",
       "      <td>-0.073577</td>\n",
       "      <td>-0.019058</td>\n",
       "    </tr>\n",
       "    <tr>\n",
       "      <th>NOX</th>\n",
       "      <td>-0.175072</td>\n",
       "      <td>-0.000000</td>\n",
       "      <td>-0.000000</td>\n",
       "      <td>-0.000000</td>\n",
       "      <td>-0.000000</td>\n",
       "    </tr>\n",
       "    <tr>\n",
       "      <th>LSTAT</th>\n",
       "      <td>-0.574822</td>\n",
       "      <td>-0.587702</td>\n",
       "      <td>-0.693861</td>\n",
       "      <td>-0.760457</td>\n",
       "      <td>-0.800368</td>\n",
       "    </tr>\n",
       "    <tr>\n",
       "      <th>PTRATIO</th>\n",
       "      <td>-0.779498</td>\n",
       "      <td>-0.784725</td>\n",
       "      <td>-0.790969</td>\n",
       "      <td>-0.738672</td>\n",
       "      <td>-0.423065</td>\n",
       "    </tr>\n",
       "    <tr>\n",
       "      <th>DIS</th>\n",
       "      <td>-1.189438</td>\n",
       "      <td>-1.173647</td>\n",
       "      <td>-0.975902</td>\n",
       "      <td>-0.725174</td>\n",
       "      <td>-0.031208</td>\n",
       "    </tr>\n",
       "  </tbody>\n",
       "</table>\n",
       "</div>"
      ],
      "text/plain": [
       "         alpha:0.07  alpha:0.1  alpha:0.5   alpha:1   alpha:3\n",
       "RM         3.574162   3.414154   1.918419  0.938789  0.000000\n",
       "CHAS       1.330724   0.979706   0.000000  0.000000  0.000000\n",
       "RAD        0.278880   0.283443   0.300761  0.289299  0.146846\n",
       "ZN         0.050107   0.050617   0.052878  0.052136  0.038268\n",
       "B          0.010122   0.010067   0.009114  0.008320  0.007020\n",
       "AGE       -0.010116  -0.008276   0.007760  0.020348  0.043446\n",
       "TAX       -0.014522  -0.014814  -0.016046 -0.016218 -0.011417\n",
       "INDUS     -0.044855  -0.042719  -0.023252 -0.000000 -0.000000\n",
       "CRIM      -0.099468  -0.099213  -0.089070 -0.073577 -0.019058\n",
       "NOX       -0.175072  -0.000000  -0.000000 -0.000000 -0.000000\n",
       "LSTAT     -0.574822  -0.587702  -0.693861 -0.760457 -0.800368\n",
       "PTRATIO   -0.779498  -0.784725  -0.790969 -0.738672 -0.423065\n",
       "DIS       -1.189438  -1.173647  -0.975902 -0.725174 -0.031208"
      ]
     },
     "execution_count": 30,
     "metadata": {},
     "output_type": "execute_result"
    }
   ],
   "source": [
    "sort_column = 'alpha:' + str(elastic_alphas[0])\n",
    "coeff_elastic_df.sort_values(by=sort_column, ascending=False)"
   ]
  },
  {
   "cell_type": "markdown",
   "metadata": {},
   "source": [
    "alpha 값에 따른 피처들의 회귀 계수 값이 라쏘보다는 0이 되는 값이 적음\n",
    "\n",
    "어떤 것이 가장 좋은지는 상황에 따라 다르며, 최적의 하이퍼 파라미터를 찾는 것 뿐만 아니라 **데이터 분포도의 정규화와 인코딩 방법이 매우 중요**함"
   ]
  },
  {
   "cell_type": "markdown",
   "metadata": {},
   "source": [
    "### 1.6.5 선형 회귀 모델을 위한 데이터 변환"
   ]
  },
  {
   "cell_type": "markdown",
   "metadata": {},
   "source": [
    "선형 모델은 일반적으로 피처와 타깃값 간에 선형 관계가 있다고 가정하며, 피처와 타깃값의 분포가 정규 분포인 형태를 선호\n",
    "\n",
    "따라서 모델을 적용하기 전 데이터에 대한 스케일링/정규화 작업을 수행하는 것이 좋음\n",
    "\n",
    "- StandardScaler (평균이 0, 분산이 1) / MinMaxScaler (최솟값이 0, 최댓값이 1)\n",
    "\n",
    "    (예측 성능 향상을 크게 기대하기 어려움)\n",
    "\n",
    "\n",
    "- 위의 방법에 효과가 없을 경우 스케일링/정규화를 수행한 데이터 세트에 다항 특성(PolynomialFeatures)을 적용하여 변환\n",
    "\n",
    "    (피처의 개수가 매우 많을 경우 과적합 발생 가능성 높음)\n",
    "\n",
    "\n",
    "- **가장 많이 사용되는 것은 로그 변환(np.log1p)으로, 주로 타깃값에 적용**\n",
    "\n",
    "    cf) np.log()를 사용하면 언더 플로우가 발생하기 쉬워서 1 + log() 함수 구현"
   ]
  },
  {
   "cell_type": "markdown",
   "metadata": {},
   "source": [
    "## 1.7 로지스틱 회귀\n",
    "\n",
    "- 로지스틱 회귀 : 선형 회귀 방식을 분류에 적용한 알고리즘\n",
    "\n",
    "시그모이드 함수(0 ~ 1 사이의 y값) 최적선을 찾아 함수의 반환 값을 확률로 간주해 분류를 결정한다는 점에서 선형 회귀와 다름\n",
    "\n",
    "**이진 분류의 기본 모델, 텍스트 분류에서도 자주 사용**"
   ]
  },
  {
   "cell_type": "code",
   "execution_count": 1,
   "metadata": {},
   "outputs": [
    {
     "name": "stdout",
     "output_type": "stream",
     "text": [
      "정확도 : 0.977\n",
      "roc_auc : 0.972\n"
     ]
    }
   ],
   "source": [
    "import pandas as pd\n",
    "import matplotlib.pyplot as plt\n",
    "%matplotlib inline\n",
    "from sklearn.datasets import load_breast_cancer\n",
    "from sklearn.linear_model import LogisticRegression\n",
    "from sklearn.preprocessing import StandardScaler\n",
    "from sklearn.model_selection import train_test_split\n",
    "from sklearn.metrics import accuracy_score, roc_auc_score\n",
    "\n",
    "cancer = load_breast_cancer()\n",
    "\n",
    "# 정규 분포 형태의 표준 스케일링 적용 후 데이터 세트 분리\n",
    "scaler = StandardScaler()\n",
    "data_scaled = scaler.fit_transform(cancer.data)\n",
    "X_train, X_test, y_train, y_test = train_test_split(data_scaled, cancer.target, test_size=0.3, random_state=0)\n",
    "\n",
    "lr_clf = LogisticRegression()\n",
    "lr_preds = lr_clf.fit(X_train, y_train).predict(X_test)\n",
    "\n",
    "print('정확도 : {:0.3f}'.format(accuracy_score(y_test, lr_preds)))\n",
    "print('roc_auc : {:0.3f}'.format(roc_auc_score(y_test, lr_preds)))"
   ]
  },
  {
   "cell_type": "markdown",
   "metadata": {},
   "source": [
    "- LogisticRegression 클래스의 주요 하이퍼 파라미터\n",
    "\n",
    "    penalty : 규제의 유형 설정 (l2(기본), l1)\n",
    "    \n",
    "    C : 규제 강도를 조절하는 alpha 값의 역수로, 작을수록 규제 강도가 큼"
   ]
  },
  {
   "cell_type": "code",
   "execution_count": 3,
   "metadata": {},
   "outputs": [
    {
     "name": "stdout",
     "output_type": "stream",
     "text": [
      "최적 하이퍼 파라미터: {'C': 1, 'penalty': 'l2'}, 최적 평균 정확도: 0.975\n"
     ]
    }
   ],
   "source": [
    "from sklearn.model_selection import GridSearchCV\n",
    "import warnings\n",
    "warnings.filterwarnings('ignore')\n",
    "\n",
    "params = {'penalty': ['l2', 'l1'], 'C': [0.01, 0.1, 1, 5, 10]}\n",
    "\n",
    "grid_clf = GridSearchCV(lr_clf, param_grid=params, scoring='accuracy', cv=3)\n",
    "grid_clf.fit(data_scaled, cancer.target)\n",
    "print('최적 하이퍼 파라미터: {0}, 최적 평균 정확도: {1:.3f}'.format(grid_clf.best_params_, grid_clf.best_score_))"
   ]
  },
  {
   "cell_type": "markdown",
   "metadata": {},
   "source": [
    "## 1.8 회귀 트리\n",
    "\n",
    "- 회귀 트리 : 회귀를 위한 트리를 생성하고 이를 기반으로 회귀 예측을 하는 것\n",
    "\n",
    "분류 트리 Classifier와 거의 동일한 하이퍼 파라미터 사용 ex) max_depth\n",
    "\n",
    "분류 트리가 특정 클래스 레이블을 결정하는 것과는 달리, 리프 노드에 속한 데이터 값의 평균을 구해 회귀 예측값을 계산한다는 차이가 있음\n",
    "\n",
    "ex) DecisionTreeRegressor, GradientBoostingRegressor, XGBRegressor, LGBMRegressor"
   ]
  },
  {
   "cell_type": "code",
   "execution_count": 6,
   "metadata": {},
   "outputs": [],
   "source": [
    "def get_model_cv_prediction(model, X_data, y_target):\n",
    "    neg_mse_scores = cross_val_score(model, X_data, y_target, scoring='neg_mean_squared_error', cv=5)\n",
    "    avg_rmse = np.mean(np.sqrt(-1 * neg_mse_scores))\n",
    "    print('##### ', model.__class__.__name__, '#####')\n",
    "    print('5 교차 검증의 평균 RMSE: {0:.3f}'.format(avg_rmse))"
   ]
  },
  {
   "cell_type": "code",
   "execution_count": 8,
   "metadata": {},
   "outputs": [
    {
     "name": "stdout",
     "output_type": "stream",
     "text": [
      "#####  DecisionTreeRegressor #####\n",
      "5 교차 검증의 평균 RMSE: 5.978\n",
      "#####  RandomForestRegressor #####\n",
      "5 교차 검증의 평균 RMSE: 4.423\n",
      "#####  GradientBoostingRegressor #####\n",
      "5 교차 검증의 평균 RMSE: 4.269\n",
      "#####  XGBRegressor #####\n",
      "5 교차 검증의 평균 RMSE: 4.251\n",
      "#####  LGBMRegressor #####\n",
      "5 교차 검증의 평균 RMSE: 4.646\n"
     ]
    }
   ],
   "source": [
    "from sklearn.datasets import load_boston\n",
    "from sklearn.model_selection import cross_val_score\n",
    "from sklearn.tree import DecisionTreeRegressor\n",
    "from sklearn.ensemble import RandomForestRegressor, GradientBoostingRegressor\n",
    "from xgboost import XGBRegressor\n",
    "from lightgbm import LGBMRegressor\n",
    "import pandas as pd\n",
    "import numpy as np\n",
    "\n",
    "boston = load_boston()\n",
    "df = pd.DataFrame(boston.data, columns=boston.feature_names)\n",
    "df['PRICE'] = boston.target\n",
    "y_target = df['PRICE']\n",
    "X_data = df.drop('PRICE', axis=1, inplace=False)\n",
    "\n",
    "dt_reg = DecisionTreeRegressor(random_state=0, max_depth=4)\n",
    "rf_reg = RandomForestRegressor(random_state=0, n_estimators=1000)\n",
    "gb_reg = GradientBoostingRegressor(random_state=0, n_estimators=1000)\n",
    "xgb_reg = XGBRegressor(n_estimators=1000)\n",
    "lgb_reg = LGBMRegressor(n_estimators=1000)\n",
    "\n",
    "models = [dt_reg, rf_reg, gb_reg, xgb_reg, lgb_reg]\n",
    "for model in models:\n",
    "    get_model_cv_prediction(model, X_data, y_target)"
   ]
  },
  {
   "cell_type": "markdown",
   "metadata": {},
   "source": [
    "회귀 트리 클래스는 회귀 계수를 제공하는 coef_ 속성이 없지만, **feature_importances_를 이용해 피처별 중요도를 알 수 있음**"
   ]
  },
  {
   "cell_type": "code",
   "execution_count": 10,
   "metadata": {},
   "outputs": [
    {
     "data": {
      "text/plain": [
       "<matplotlib.axes._subplots.AxesSubplot at 0x17ab1fb43d0>"
      ]
     },
     "execution_count": 10,
     "metadata": {},
     "output_type": "execute_result"
    },
    {
     "data": {
      "image/png": "[encoded data removed]",
      "text/plain": [
       "<Figure size 432x288 with 1 Axes>"
      ]
     },
     "metadata": {
      "needs_background": "light"
     },
     "output_type": "display_data"
    }
   ],
   "source": [
    "import seaborn as sns\n",
    "%matplotlib inline\n",
    "\n",
    "rf_reg = RandomForestRegressor(n_estimators=1000)\n",
    "rf_reg.fit(X_data, y_target)\n",
    "\n",
    "feature_series = pd.Series(data=rf_reg.feature_importances_, index=X_data.columns).sort_values(ascending=False)\n",
    "sns.barplot(x=feature_series, y=feature_series.index)"
   ]
  },
  {
   "cell_type": "markdown",
   "metadata": {},
   "source": [
    "선형 회귀는 직성으로 예측 회귀선을 표현하는 데 반해, **회귀 트리의 경우 계단 형태로 회귀선을 생성**"
   ]
  },
  {
   "cell_type": "code",
   "execution_count": null,
   "metadata": {},
   "outputs": [],
   "source": []
  }
 ],
 "metadata": {
  "kernelspec": {
   "display_name": "Python 3",
   "language": "python",
   "name": "python3"
  },
  "language_info": {
   "codemirror_mode": {
    "name": "ipython",
    "version": 3
   },
   "file_extension": ".py",
   "mimetype": "text/x-python",
   "name": "python",
   "nbconvert_exporter": "python",
   "pygments_lexer": "ipython3",
   "version": "3.8.3"
  },
  "toc": {
   "base_numbering": 1,
   "nav_menu": {},
   "number_sections": false,
   "sideBar": false,
   "skip_h1_title": false,
   "title_cell": "Table of Contents",
   "title_sidebar": "Contents",
   "toc_cell": true,
   "toc_position": {},
   "toc_section_display": true,
   "toc_window_display": false
  }
 },
 "nbformat": 4,
 "nbformat_minor": 4
}
