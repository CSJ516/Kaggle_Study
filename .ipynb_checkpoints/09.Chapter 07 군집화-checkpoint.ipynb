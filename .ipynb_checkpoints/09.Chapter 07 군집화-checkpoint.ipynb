{
 "cells": [
  {
   "cell_type": "markdown",
   "metadata": {
    "toc": true
   },
   "source": [
    "<h1>Table of Contents<span class=\"tocSkip\"></span></h1>\n",
    "<div class=\"toc\"><ul class=\"toc-item\"><li><span><a href=\"#1.-[Chapter-07]-군집화\" data-toc-modified-id=\"1.-[Chapter-07]-군집화-1\">1. [Chapter 07] 군집화</a></span><ul class=\"toc-item\"><li><span><a href=\"#1.1-K-평균-알고리즘-이해\" data-toc-modified-id=\"1.1-K-평균-알고리즘-이해-1.1\">1.1 K-평균 알고리즘 이해</a></span><ul class=\"toc-item\"><li><span><a href=\"#1.1.1-사이킷런-KMeans-클래스-소개\" data-toc-modified-id=\"1.1.1-사이킷런-KMeans-클래스-소개-1.1.1\">1.1.1 사이킷런 KMeans 클래스 소개</a></span></li><li><span><a href=\"#1.1.2-K-평균을-이용한-붓꽃-데이터-세트-군집화\" data-toc-modified-id=\"1.1.2-K-평균을-이용한-붓꽃-데이터-세트-군집화-1.1.2\">1.1.2 K-평균을 이용한 붓꽃 데이터 세트 군집화</a></span></li><li><span><a href=\"#1.1.3-군집화-알고리즘-테스트를-위한-데이터-생성\" data-toc-modified-id=\"1.1.3-군집화-알고리즘-테스트를-위한-데이터-생성-1.1.3\">1.1.3 군집화 알고리즘 테스트를 위한 데이터 생성</a></span></li></ul></li><li><span><a href=\"#1.2-군집-평가\" data-toc-modified-id=\"1.2-군집-평가-1.2\">1.2 군집 평가</a></span><ul class=\"toc-item\"><li><span><a href=\"#1.2.1-실루엣-분석의-개요\" data-toc-modified-id=\"1.2.1-실루엣-분석의-개요-1.2.1\">1.2.1 실루엣 분석의 개요</a></span></li><li><span><a href=\"#1.2.2-붓꽃-데이터-세트를-이용한-군집-평가\" data-toc-modified-id=\"1.2.2-붓꽃-데이터-세트를-이용한-군집-평가-1.2.2\">1.2.2 붓꽃 데이터 세트를 이용한 군집 평가</a></span></li><li><span><a href=\"#1.2.3-군집별-평균-실루엣-계수의-시각화를-통한-군집-개수-최적화-방법\" data-toc-modified-id=\"1.2.3-군집별-평균-실루엣-계수의-시각화를-통한-군집-개수-최적화-방법-1.2.3\">1.2.3 군집별 평균 실루엣 계수의 시각화를 통한 군집 개수 최적화 방법</a></span></li></ul></li><li><span><a href=\"#1.3-평균-이동\" data-toc-modified-id=\"1.3-평균-이동-1.3\">1.3 평균 이동</a></span></li><li><span><a href=\"#1.4-GMM(Gaussian-Mixture-Model)\" data-toc-modified-id=\"1.4-GMM(Gaussian-Mixture-Model)-1.4\">1.4 GMM(Gaussian Mixture Model)</a></span><ul class=\"toc-item\"><li><span><a href=\"#1.4.1-GMM을-이용한-붓꽃-데이터-세트-군집화\" data-toc-modified-id=\"1.4.1-GMM을-이용한-붓꽃-데이터-세트-군집화-1.4.1\">1.4.1 GMM을 이용한 붓꽃 데이터 세트 군집화</a></span></li><li><span><a href=\"#1.4.2-GMM과-K-평균의-비교\" data-toc-modified-id=\"1.4.2-GMM과-K-평균의-비교-1.4.2\">1.4.2 GMM과 K-평균의 비교</a></span></li></ul></li><li><span><a href=\"#1.5-DBSCAN\" data-toc-modified-id=\"1.5-DBSCAN-1.5\">1.5 DBSCAN</a></span><ul class=\"toc-item\"><li><span><a href=\"#1.5.1-DBSCAN-적용하기---붓꽃-데이터-세트\" data-toc-modified-id=\"1.5.1-DBSCAN-적용하기---붓꽃-데이터-세트-1.5.1\">1.5.1 DBSCAN 적용하기 - 붓꽃 데이터 세트</a></span></li><li><span><a href=\"#1.5.2-DBSCAN-적용하기---make_circles()-데이터-세트\" data-toc-modified-id=\"1.5.2-DBSCAN-적용하기---make_circles()-데이터-세트-1.5.2\">1.5.2 DBSCAN 적용하기 - make_circles() 데이터 세트</a></span></li></ul></li><li><span><a href=\"#1.6-군집화-실습---고객-세그먼테이션\" data-toc-modified-id=\"1.6-군집화-실습---고객-세그먼테이션-1.6\">1.6 군집화 실습 - 고객 세그먼테이션</a></span><ul class=\"toc-item\"><li><span><a href=\"#1.6.1-RFM-기반-데이터-가공\" data-toc-modified-id=\"1.6.1-RFM-기반-데이터-가공-1.6.1\">1.6.1 RFM 기반 데이터 가공</a></span></li><li><span><a href=\"#1.6.2--RFM-기반-고객-세그먼테이션\" data-toc-modified-id=\"1.6.2--RFM-기반-고객-세그먼테이션-1.6.2\">1.6.2  RFM 기반 고객 세그먼테이션</a></span></li></ul></li></ul></li></ul></div>"
   ]
  },
  {
   "cell_type": "markdown",
   "metadata": {},
   "source": [
    "# 1. [Chapter 07] 군집화"
   ]
  },
  {
   "cell_type": "markdown",
   "metadata": {},
   "source": [
    "## 1.1 K-평균 알고리즘 이해\n",
    "\n",
    "- **K-평균 : 군집 중심점이라는 특정한 임의의 지점에 가장 가까운 포인트들을 선택하는 군집화 기법**\n",
    "\n",
    "군집 중심점을 선택된 포인트의 평균 지점으로 이동하고, 이동된 중심점에서 다시 가까운 포인트를 선택하는 과정을 반복적으로 수행\n",
    "\n",
    "장점 : 알고리즘이 쉽고 간결하여 일반적인 군집화에서 가장 많이 활용\n",
    "\n",
    "단점 : 거리 기반 알고리즘으로 속성의 개수가 많을 경우 정확도가 떨어지며, 반복 횟수가 많을 경우 수행 시간이 느림"
   ]
  },
  {
   "cell_type": "markdown",
   "metadata": {},
   "source": [
    "### 1.1.1 사이킷런 KMeans 클래스 소개"
   ]
  },
  {
   "cell_type": "markdown",
   "metadata": {},
   "source": [
    "- 파라미터\n",
    "\n",
    "    n_clusters : 군집 중심점의 개수\n",
    "\n",
    "    init : 초기에 군집 중심점의 좌표를 설정할 방식 (보통 k-means++ 방식으로 설정)\n",
    "\n",
    "    max_iter : 최대 반복 횟수\n",
    "    \n",
    "    \n",
    "- 속성\n",
    "\n",
    "    labels_ : 각 데이터 포인트가 속한 군집 중심점 레이블\n",
    "    \n",
    "    cluster_centers : 각 군집 중심점 좌표"
   ]
  },
  {
   "cell_type": "markdown",
   "metadata": {},
   "source": [
    "### 1.1.2 K-평균을 이용한 붓꽃 데이터 세트 군집화"
   ]
  },
  {
   "cell_type": "code",
   "execution_count": 18,
   "metadata": {},
   "outputs": [
    {
     "data": {
      "text/html": [
       "<div>\n",
       "<style scoped>\n",
       "    .dataframe tbody tr th:only-of-type {\n",
       "        vertical-align: middle;\n",
       "    }\n",
       "\n",
       "    .dataframe tbody tr th {\n",
       "        vertical-align: top;\n",
       "    }\n",
       "\n",
       "    .dataframe thead th {\n",
       "        text-align: right;\n",
       "    }\n",
       "</style>\n",
       "<table border=\"1\" class=\"dataframe\">\n",
       "  <thead>\n",
       "    <tr style=\"text-align: right;\">\n",
       "      <th></th>\n",
       "      <th>sepal_length</th>\n",
       "      <th>sepal_width</th>\n",
       "      <th>petal_length</th>\n",
       "      <th>petal_width</th>\n",
       "    </tr>\n",
       "  </thead>\n",
       "  <tbody>\n",
       "    <tr>\n",
       "      <th>0</th>\n",
       "      <td>5.1</td>\n",
       "      <td>3.5</td>\n",
       "      <td>1.4</td>\n",
       "      <td>0.2</td>\n",
       "    </tr>\n",
       "    <tr>\n",
       "      <th>1</th>\n",
       "      <td>4.9</td>\n",
       "      <td>3.0</td>\n",
       "      <td>1.4</td>\n",
       "      <td>0.2</td>\n",
       "    </tr>\n",
       "    <tr>\n",
       "      <th>2</th>\n",
       "      <td>4.7</td>\n",
       "      <td>3.2</td>\n",
       "      <td>1.3</td>\n",
       "      <td>0.2</td>\n",
       "    </tr>\n",
       "  </tbody>\n",
       "</table>\n",
       "</div>"
      ],
      "text/plain": [
       "   sepal_length  sepal_width  petal_length  petal_width\n",
       "0           5.1          3.5           1.4          0.2\n",
       "1           4.9          3.0           1.4          0.2\n",
       "2           4.7          3.2           1.3          0.2"
      ]
     },
     "execution_count": 18,
     "metadata": {},
     "output_type": "execute_result"
    }
   ],
   "source": [
    "from sklearn.preprocessing import scale\n",
    "from sklearn.datasets import load_iris\n",
    "from sklearn.cluster import KMeans\n",
    "import matplotlib.pyplot as plt\n",
    "import numpy as np\n",
    "import pandas as pd\n",
    "%matplotlib inline\n",
    "\n",
    "iris = load_iris()\n",
    "df = pd.DataFrame(data=iris.data, columns=['sepal_length','sepal_width','petal_length','petal_width'])\n",
    "df.head(3)"
   ]
  },
  {
   "cell_type": "code",
   "execution_count": 19,
   "metadata": {},
   "outputs": [
    {
     "data": {
      "text/plain": [
       "KMeans(n_clusters=3, random_state=0)"
      ]
     },
     "execution_count": 19,
     "metadata": {},
     "output_type": "execute_result"
    }
   ],
   "source": [
    "kmeans = KMeans(n_clusters=3, init='k-means++', max_iter=300, random_state=0)\n",
    "kmeans.fit(df)"
   ]
  },
  {
   "cell_type": "code",
   "execution_count": 20,
   "metadata": {},
   "outputs": [
    {
     "name": "stdout",
     "output_type": "stream",
     "text": [
      "[1 1 1 1 1 1 1 1 1 1 1 1 1 1 1 1 1 1 1 1 1 1 1 1 1 1 1 1 1 1 1 1 1 1 1 1 1\n",
      " 1 1 1 1 1 1 1 1 1 1 1 1 1 2 2 0 2 2 2 2 2 2 2 2 2 2 2 2 2 2 2 2 2 2 2 2 2\n",
      " 2 2 2 0 2 2 2 2 2 2 2 2 2 2 2 2 2 2 2 2 2 2 2 2 2 2 0 2 0 0 0 0 2 0 0 0 0\n",
      " 0 0 2 2 0 0 0 0 2 0 2 0 2 0 0 2 2 0 0 0 0 0 2 0 0 0 0 2 0 0 0 2 0 0 0 2 0\n",
      " 0 2]\n"
     ]
    }
   ],
   "source": [
    "print(kmeans.labels_)     # 각 데이터가 어떤 중심에 속하는지 알 수 있음"
   ]
  },
  {
   "cell_type": "code",
   "execution_count": 21,
   "metadata": {},
   "outputs": [
    {
     "name": "stdout",
     "output_type": "stream",
     "text": [
      "target  cluster\n",
      "0       1          50\n",
      "1       0           2\n",
      "        2          48\n",
      "2       0          36\n",
      "        2          14\n",
      "Name: sepal_length, dtype: int64\n"
     ]
    }
   ],
   "source": [
    "df['target'] = iris.target\n",
    "df['cluster'] = kmeans.labels_\n",
    "iris_result = df.groupby(['target','cluster'])['sepal_length'].count()\n",
    "print(iris_result)"
   ]
  },
  {
   "cell_type": "markdown",
   "metadata": {},
   "source": [
    "Target이 0인 데이터는 1번 군집으로, 1인 데이터는 2개만 0번 군집이고 나머지 48개는 2번 군집으로 그루핑되었으나\n",
    "\n",
    "Target이 2인 데이터는 0번 군집과 2번 군집에 분산되어 그루핑됨"
   ]
  },
  {
   "cell_type": "code",
   "execution_count": 24,
   "metadata": {},
   "outputs": [
    {
     "data": {
      "text/html": [
       "<div>\n",
       "<style scoped>\n",
       "    .dataframe tbody tr th:only-of-type {\n",
       "        vertical-align: middle;\n",
       "    }\n",
       "\n",
       "    .dataframe tbody tr th {\n",
       "        vertical-align: top;\n",
       "    }\n",
       "\n",
       "    .dataframe thead th {\n",
       "        text-align: right;\n",
       "    }\n",
       "</style>\n",
       "<table border=\"1\" class=\"dataframe\">\n",
       "  <thead>\n",
       "    <tr style=\"text-align: right;\">\n",
       "      <th></th>\n",
       "      <th>sepal_length</th>\n",
       "      <th>sepal_width</th>\n",
       "      <th>petal_length</th>\n",
       "      <th>petal_width</th>\n",
       "      <th>target</th>\n",
       "      <th>cluster</th>\n",
       "      <th>pca_x</th>\n",
       "      <th>pca_y</th>\n",
       "    </tr>\n",
       "  </thead>\n",
       "  <tbody>\n",
       "    <tr>\n",
       "      <th>0</th>\n",
       "      <td>5.1</td>\n",
       "      <td>3.5</td>\n",
       "      <td>1.4</td>\n",
       "      <td>0.2</td>\n",
       "      <td>0</td>\n",
       "      <td>1</td>\n",
       "      <td>-2.684126</td>\n",
       "      <td>0.319397</td>\n",
       "    </tr>\n",
       "    <tr>\n",
       "      <th>1</th>\n",
       "      <td>4.9</td>\n",
       "      <td>3.0</td>\n",
       "      <td>1.4</td>\n",
       "      <td>0.2</td>\n",
       "      <td>0</td>\n",
       "      <td>1</td>\n",
       "      <td>-2.714142</td>\n",
       "      <td>-0.177001</td>\n",
       "    </tr>\n",
       "    <tr>\n",
       "      <th>2</th>\n",
       "      <td>4.7</td>\n",
       "      <td>3.2</td>\n",
       "      <td>1.3</td>\n",
       "      <td>0.2</td>\n",
       "      <td>0</td>\n",
       "      <td>1</td>\n",
       "      <td>-2.888991</td>\n",
       "      <td>-0.144949</td>\n",
       "    </tr>\n",
       "  </tbody>\n",
       "</table>\n",
       "</div>"
      ],
      "text/plain": [
       "   sepal_length  sepal_width  petal_length  petal_width  target  cluster  \\\n",
       "0           5.1          3.5           1.4          0.2       0        1   \n",
       "1           4.9          3.0           1.4          0.2       0        1   \n",
       "2           4.7          3.2           1.3          0.2       0        1   \n",
       "\n",
       "      pca_x     pca_y  \n",
       "0 -2.684126  0.319397  \n",
       "1 -2.714142 -0.177001  \n",
       "2 -2.888991 -0.144949  "
      ]
     },
     "execution_count": 24,
     "metadata": {},
     "output_type": "execute_result"
    }
   ],
   "source": [
    "from sklearn.decomposition import PCA\n",
    "\n",
    "# 2차원 평면상에서 시각화하기 위해 4개의 속성을 2개로 차원 축소\n",
    "pca = PCA(n_components=2)\n",
    "pca_transformed = pca.fit_transform(iris.data)\n",
    "\n",
    "df['pca_x'] = pca_transformed[:,0]\n",
    "df['pca_y'] = pca_transformed[:,1]\n",
    "df.head(3)"
   ]
  },
  {
   "cell_type": "code",
   "execution_count": 25,
   "metadata": {},
   "outputs": [
    {
     "data": {
      "image/png": "[encoded data removed]",
      "text/plain": [
       "<Figure size 432x288 with 1 Axes>"
      ]
     },
     "metadata": {
      "needs_background": "light"
     },
     "output_type": "display_data"
    }
   ],
   "source": [
    "marker0 = df[df['cluster'] == 0].index\n",
    "marker1 = df[df['cluster'] == 1].index\n",
    "marker2 = df[df['cluster'] == 2].index\n",
    "\n",
    "plt.scatter(x=df.loc[marker0, 'pca_x'], y=df.loc[marker0, 'pca_y'], marker='o')\n",
    "plt.scatter(x=df.loc[marker1, 'pca_x'], y=df.loc[marker1, 'pca_y'], marker='s')\n",
    "plt.scatter(x=df.loc[marker2, 'pca_x'], y=df.loc[marker2, 'pca_y'], marker='^')\n",
    "\n",
    "plt.xlabel('PCA_1')\n",
    "plt.ylabel('PCA_2')\n",
    "plt.title('3 Clusters Visualization by 2 PCA Components')\n",
    "plt.show()"
   ]
  },
  {
   "cell_type": "markdown",
   "metadata": {},
   "source": [
    "1번 군집은 명확히 분리되어 있으며, 0번 군집과 2번 군집도 상당 수준 분리돼 있지만 1번만큼은 아님"
   ]
  },
  {
   "cell_type": "markdown",
   "metadata": {},
   "source": [
    "### 1.1.3 군집화 알고리즘 테스트를 위한 데이터 생성\n",
    "\n",
    "- **make_blobs()**는 개별 군집의 중심점과 표준 편차 제어 기능이 있음\n",
    "\n",
    "    n_samples : 생성할 총 데이터의 개수 (디폴트 100)\n",
    "    \n",
    "    n_features : 데이터의 피처 개수\n",
    "    \n",
    "    centers : int 값으로 설정하면 군집의 개수, ndarray 형태로 표현하면 개별 군집 중심점의 좌표\n",
    "    \n",
    "    cluster_std : 생성될 군집 데이터의 표준 편차 (군집별로 서로 다른 표준 편차를 가진 데이터 세트를 만들 때 리스트 형태로 표현)\n",
    "\n",
    "\n",
    "- **make_classification()**은 노이즈를 포함한 데이터를 만드는 데 유용하게 사용\n",
    "\n",
    "** 두 API 모두 대표적인 군집화용 데이터 생성기로, 분류 용도로도 테스트 데이터 생성이 가능"
   ]
  },
  {
   "cell_type": "code",
   "execution_count": 26,
   "metadata": {},
   "outputs": [
    {
     "name": "stdout",
     "output_type": "stream",
     "text": [
      "(200, 2) (200,)\n",
      "[0 1 2] [67 67 66]\n"
     ]
    }
   ],
   "source": [
    "import numpy as np\n",
    "import matplotlib.pyplot as plt\n",
    "from sklearn.cluster import KMeans\n",
    "from sklearn.datasets import make_blobs\n",
    "%matplotlib inline\n",
    "\n",
    "X, y = make_blobs(n_samples=200, n_features=2, centers=3, cluster_std=0.8, random_state=0)\n",
    "print(X.shape, y.shape)\n",
    "\n",
    "# y target 값의 분포를 확인\n",
    "unique, counts = np.unique(y, return_counts=True)\n",
    "print(unique, counts)"
   ]
  },
  {
   "cell_type": "markdown",
   "metadata": {},
   "source": [
    "200개의 레코드와 2개의 피처를 가지고 있으며, cluster 값 [0,1,2]은 각각 균일하게 구성되어 있음"
   ]
  },
  {
   "cell_type": "code",
   "execution_count": 27,
   "metadata": {},
   "outputs": [
    {
     "data": {
      "text/html": [
       "<div>\n",
       "<style scoped>\n",
       "    .dataframe tbody tr th:only-of-type {\n",
       "        vertical-align: middle;\n",
       "    }\n",
       "\n",
       "    .dataframe tbody tr th {\n",
       "        vertical-align: top;\n",
       "    }\n",
       "\n",
       "    .dataframe thead th {\n",
       "        text-align: right;\n",
       "    }\n",
       "</style>\n",
       "<table border=\"1\" class=\"dataframe\">\n",
       "  <thead>\n",
       "    <tr style=\"text-align: right;\">\n",
       "      <th></th>\n",
       "      <th>ftr1</th>\n",
       "      <th>ftr2</th>\n",
       "      <th>target</th>\n",
       "    </tr>\n",
       "  </thead>\n",
       "  <tbody>\n",
       "    <tr>\n",
       "      <th>0</th>\n",
       "      <td>-1.692427</td>\n",
       "      <td>3.622025</td>\n",
       "      <td>2</td>\n",
       "    </tr>\n",
       "    <tr>\n",
       "      <th>1</th>\n",
       "      <td>0.697940</td>\n",
       "      <td>4.428867</td>\n",
       "      <td>0</td>\n",
       "    </tr>\n",
       "    <tr>\n",
       "      <th>2</th>\n",
       "      <td>1.100228</td>\n",
       "      <td>4.606317</td>\n",
       "      <td>0</td>\n",
       "    </tr>\n",
       "  </tbody>\n",
       "</table>\n",
       "</div>"
      ],
      "text/plain": [
       "       ftr1      ftr2  target\n",
       "0 -1.692427  3.622025       2\n",
       "1  0.697940  4.428867       0\n",
       "2  1.100228  4.606317       0"
      ]
     },
     "execution_count": 27,
     "metadata": {},
     "output_type": "execute_result"
    }
   ],
   "source": [
    "import pandas as pd\n",
    "\n",
    "df = pd.DataFrame(data=X, columns=['ftr1', 'ftr2'])\n",
    "df['target'] = y\n",
    "df.head(3)"
   ]
  },
  {
   "cell_type": "code",
   "execution_count": 28,
   "metadata": {},
   "outputs": [
    {
     "data": {
      "image/png": "[encoded data removed]",
      "text/plain": [
       "<Figure size 432x288 with 1 Axes>"
      ]
     },
     "metadata": {
      "needs_background": "light"
     },
     "output_type": "display_data"
    }
   ],
   "source": [
    "kmeans = KMeans(n_clusters=3, init='k-means++', max_iter=200, random_state=0)\n",
    "cluster_labels = kmeans.fit_predict(X)\n",
    "df['kmeans_label'] = cluster_labels\n",
    "\n",
    "centers = kmeans.cluster_centers_\n",
    "unique_labels = np.unique(cluster_labels)\n",
    "markers = ['o','s','^','P','D','H','x']\n",
    "\n",
    "# 군집된 label 유형별로 iteration 하면서 시각화\n",
    "for label in unique_labels:\n",
    "    label_cluster = df[df['kmeans_label'] == label]\n",
    "    center_xy = centers[label]\n",
    "    plt.scatter(x=label_cluster['ftr1'], y=label_cluster['ftr2'], edgecolor='k', marker=markers[label])\n",
    "    \n",
    "    plt.scatter(x=center_xy[0], y=center_xy[1], s=200, color='white', alpha=0.9, edgecolor='k', marker=markers[label])\n",
    "    plt.scatter(x=center_xy[0], y=center_xy[1], s=70, color='k', edgecolor='k', marker='$%d$' % label)\n",
    "plt.show()"
   ]
  },
  {
   "cell_type": "markdown",
   "metadata": {},
   "source": [
    "make_blobs()의 target과 kmeans_label은 군집 번호를 의미하므로 서로 다른 값으로 매핑될 수 있음"
   ]
  },
  {
   "cell_type": "code",
   "execution_count": 29,
   "metadata": {},
   "outputs": [
    {
     "name": "stdout",
     "output_type": "stream",
     "text": [
      "target  kmeans_label\n",
      "0       0               66\n",
      "        2                1\n",
      "1       1               67\n",
      "2       2               65\n",
      "        1                1\n",
      "Name: kmeans_label, dtype: int64\n"
     ]
    }
   ],
   "source": [
    "print(df.groupby('target')['kmeans_label'].value_counts())"
   ]
  },
  {
   "cell_type": "markdown",
   "metadata": {},
   "source": [
    "## 1.2 군집 평가\n",
    "\n",
    "대부분의 군집화 데이터 세트는 Target 레이블이 없으며, 비지도학습 특성상 정확한 성능을 평가하기 어려움"
   ]
  },
  {
   "cell_type": "markdown",
   "metadata": {},
   "source": [
    "### 1.2.1 실루엣 분석의 개요\n",
    "\n",
    "- **실루엣 분석 : 각 군집 간의 거리가 얼마나 효율적으로 분리돼 있는지를 나타냄**\n",
    "\n",
    "    **sklearn.metrics.silhouette_samples**(X, labels, metric='euclidean', **kwds) : 각 데이터 포인트의 실루엣 계수를 계산해 반환\n",
    "    \n",
    "    **sklearn.metrics.silhouette_score**(X, labels, metric='euclidean', sample_size=None, **kwds) : 전체 데이터의 실루엣 계수 값을 평균해 반환\n",
    "    \n",
    "    \n",
    "- 좋은 군집화의 기준 조건\n",
    "\n",
    "    1) 전체 실루엣 계수의 평균값(사이킷런의 silhouette_score())은 0~1 사이의 값을 가지며, 1에 가까울수록 좋음\n",
    "    \n",
    "    2) 개별 군집의 평균값의 편차가 크지 않아야 함\n",
    "    \n",
    "cf) 실루엣 계수 : 개별 데이터가 가지는 군집화 지표. 같은 군집 내 데이터와 얼마나 가까운지, 다른 군집 데이터와 얼마나 멀리 있는지를 나타냄"
   ]
  },
  {
   "cell_type": "markdown",
   "metadata": {},
   "source": [
    "### 1.2.2 붓꽃 데이터 세트를 이용한 군집 평가"
   ]
  },
  {
   "cell_type": "code",
   "execution_count": 31,
   "metadata": {},
   "outputs": [
    {
     "name": "stdout",
     "output_type": "stream",
     "text": [
      "silhouette_samples() return 값의 shape (150,)\n",
      "붓꽃 데이터 세트 Silhouette Analysis Score: 0.553\n"
     ]
    },
    {
     "data": {
      "text/html": [
       "<div>\n",
       "<style scoped>\n",
       "    .dataframe tbody tr th:only-of-type {\n",
       "        vertical-align: middle;\n",
       "    }\n",
       "\n",
       "    .dataframe tbody tr th {\n",
       "        vertical-align: top;\n",
       "    }\n",
       "\n",
       "    .dataframe thead th {\n",
       "        text-align: right;\n",
       "    }\n",
       "</style>\n",
       "<table border=\"1\" class=\"dataframe\">\n",
       "  <thead>\n",
       "    <tr style=\"text-align: right;\">\n",
       "      <th></th>\n",
       "      <th>sepal_length</th>\n",
       "      <th>sepal_width</th>\n",
       "      <th>petal_length</th>\n",
       "      <th>petal_width</th>\n",
       "      <th>cluster</th>\n",
       "      <th>silhouette_coeff</th>\n",
       "    </tr>\n",
       "  </thead>\n",
       "  <tbody>\n",
       "    <tr>\n",
       "      <th>0</th>\n",
       "      <td>5.1</td>\n",
       "      <td>3.5</td>\n",
       "      <td>1.4</td>\n",
       "      <td>0.2</td>\n",
       "      <td>1</td>\n",
       "      <td>0.852955</td>\n",
       "    </tr>\n",
       "    <tr>\n",
       "      <th>1</th>\n",
       "      <td>4.9</td>\n",
       "      <td>3.0</td>\n",
       "      <td>1.4</td>\n",
       "      <td>0.2</td>\n",
       "      <td>1</td>\n",
       "      <td>0.815495</td>\n",
       "    </tr>\n",
       "    <tr>\n",
       "      <th>2</th>\n",
       "      <td>4.7</td>\n",
       "      <td>3.2</td>\n",
       "      <td>1.3</td>\n",
       "      <td>0.2</td>\n",
       "      <td>1</td>\n",
       "      <td>0.829315</td>\n",
       "    </tr>\n",
       "  </tbody>\n",
       "</table>\n",
       "</div>"
      ],
      "text/plain": [
       "   sepal_length  sepal_width  petal_length  petal_width  cluster  \\\n",
       "0           5.1          3.5           1.4          0.2        1   \n",
       "1           4.9          3.0           1.4          0.2        1   \n",
       "2           4.7          3.2           1.3          0.2        1   \n",
       "\n",
       "   silhouette_coeff  \n",
       "0          0.852955  \n",
       "1          0.815495  \n",
       "2          0.829315  "
      ]
     },
     "execution_count": 31,
     "metadata": {},
     "output_type": "execute_result"
    }
   ],
   "source": [
    "from sklearn.preprocessing import scale\n",
    "from sklearn.datasets import load_iris\n",
    "from sklearn.cluster import KMeans\n",
    "from sklearn.metrics import silhouette_samples, silhouette_score\n",
    "import matplotlib.pyplot as plt\n",
    "import numpy as np\n",
    "import pandas as pd\n",
    "%matplotlib inline\n",
    "\n",
    "iris = load_iris()\n",
    "feature_names = ['sepal_length','sepal_width','petal_length','petal_width']\n",
    "df = pd.DataFrame(data=iris.data, columns=feature_names)\n",
    "kmeans = KMeans(n_clusters=3, init='k-means++', max_iter=300, random_state=0).fit(df)\n",
    "df['cluster'] = kmeans.labels_\n",
    "\n",
    "# iris의 모든 개별 데이터에 실루엣 계수 값을 구함\n",
    "score_samples = silhouette_samples(iris.data, df['cluster'])\n",
    "print('silhouette_samples() return 값의 shape', score_samples.shape)\n",
    "\n",
    "# df에 실루엣 계수 칼럼 추가\n",
    "df['silhouette_coeff'] = score_samples\n",
    "\n",
    "# 모든 데이터의 평균 실루엣 계수 값을 구함\n",
    "average_score = silhouette_score(iris.data, df['cluster'])\n",
    "print('붓꽃 데이터 세트 Silhouette Analysis Score: {0:.3f}'.format(average_score))\n",
    "df.head(3)"
   ]
  },
  {
   "cell_type": "code",
   "execution_count": 32,
   "metadata": {},
   "outputs": [
    {
     "data": {
      "text/plain": [
       "cluster\n",
       "0    0.451105\n",
       "1    0.798140\n",
       "2    0.417320\n",
       "Name: silhouette_coeff, dtype: float64"
      ]
     },
     "execution_count": 32,
     "metadata": {},
     "output_type": "execute_result"
    }
   ],
   "source": [
    "df.groupby('cluster')['silhouette_coeff'].mean()"
   ]
  },
  {
   "cell_type": "markdown",
   "metadata": {},
   "source": [
    "1번 군집의 실루엣 계수 값이 약 0.79인데 반해, 다른 군집의 실루엣 계수 값이 낮아 전체 평균 실루엣 계수 값이 약 0.553으로 나타남"
   ]
  },
  {
   "cell_type": "markdown",
   "metadata": {},
   "source": [
    "### 1.2.3 군집별 평균 실루엣 계수의 시각화를 통한 군집 개수 최적화 방법\n",
    "\n",
    "http://scikit-learn.org/stable/auto_examples/cluster/plot_kmeans_silhouette_analysis.html\n",
    "\n",
    "https://github.com/wikibook/ml-definitive-guide/blob/master/7%EC%9E%A5/7-2_Cluster%20evaluation.ipynb"
   ]
  },
  {
   "cell_type": "code",
   "execution_count": 15,
   "metadata": {},
   "outputs": [],
   "source": [
    "def visualize_silhouette(cluster_lists, X_features): \n",
    "\n",
    "    from sklearn.datasets import make_blobs\n",
    "    from sklearn.cluster import KMeans\n",
    "    from sklearn.metrics import silhouette_samples, silhouette_score\n",
    "\n",
    "    import matplotlib.pyplot as plt\n",
    "    import matplotlib.cm as cm\n",
    "    import math\n",
    "    \n",
    "    # 입력값으로 클러스터링 갯수들을 리스트로 받아 각 갯수별로 클러스터링을 적용하고 실루엣 개수를 구함\n",
    "    n_cols = len(cluster_lists)\n",
    "    \n",
    "    # plt.subplots()으로 리스트에 기재된 클러스터링 수만큼의 sub figures를 가지는 axs 생성 \n",
    "    fig, axs = plt.subplots(figsize=(4*n_cols, 4), nrows=1, ncols=n_cols)\n",
    "    \n",
    "    # 리스트에 기재된 클러스터링 갯수들을 차례로 iteration 수행하면서 실루엣 개수 시각화\n",
    "    for ind, n_cluster in enumerate(cluster_lists):\n",
    "        \n",
    "        # KMeans 클러스터링을 수행하고, 실루엣 스코어와 개별 데이터의 실루엣 값 계산\n",
    "        clusterer = KMeans(n_clusters = n_cluster, max_iter=500, random_state=0)\n",
    "        cluster_labels = clusterer.fit_predict(X_features)\n",
    "        \n",
    "        sil_avg = silhouette_score(X_features, cluster_labels)\n",
    "        sil_values = silhouette_samples(X_features, cluster_labels)\n",
    "        \n",
    "        y_lower = 10\n",
    "        axs[ind].set_title('Number of Cluster : '+ str(n_cluster)+'\\n' \\\n",
    "                          'Silhouette Score :' + str(round(sil_avg,3)) )\n",
    "        axs[ind].set_xlabel(\"The silhouette coefficient values\")\n",
    "        axs[ind].set_ylabel(\"Cluster label\")\n",
    "        axs[ind].set_xlim([-0.1, 1])\n",
    "        axs[ind].set_ylim([0, len(X_features) + (n_cluster + 1) * 10])\n",
    "        axs[ind].set_yticks([])  # Clear the yaxis labels / ticks\n",
    "        axs[ind].set_xticks([0, 0.2, 0.4, 0.6, 0.8, 1])\n",
    "        \n",
    "        # 클러스터링 갯수별로 fill_betweenx( )형태의 막대 그래프 표현\n",
    "        for i in range(n_cluster):\n",
    "            ith_cluster_sil_values = sil_values[cluster_labels==i]\n",
    "            ith_cluster_sil_values.sort()\n",
    "            \n",
    "            size_cluster_i = ith_cluster_sil_values.shape[0]\n",
    "            y_upper = y_lower + size_cluster_i\n",
    "            \n",
    "            color = cm.nipy_spectral(float(i) / n_cluster)\n",
    "            axs[ind].fill_betweenx(np.arange(y_lower, y_upper), 0, ith_cluster_sil_values, \\\n",
    "                                facecolor=color, edgecolor=color, alpha=0.7)\n",
    "            axs[ind].text(-0.05, y_lower + 0.5 * size_cluster_i, str(i))\n",
    "            y_lower = y_upper + 10\n",
    "            \n",
    "        axs[ind].axvline(x=sil_avg, color=\"red\", linestyle=\"--\")"
   ]
  },
  {
   "cell_type": "code",
   "execution_count": 35,
   "metadata": {},
   "outputs": [
    {
     "data": {
      "image/png": "[encoded data removed]",
      "text/plain": [
       "<Figure size 1152x288 with 4 Axes>"
      ]
     },
     "metadata": {
      "needs_background": "light"
     },
     "output_type": "display_data"
    }
   ],
   "source": [
    "from sklearn.datasets import make_blobs\n",
    "\n",
    "X, y = make_blobs(n_samples=500, n_features=2, centers=4, cluster_std=1, center_box=(-10, 10), shuffle=True, random_state=1)\n",
    "\n",
    "# 군집 개수가 2, 3, 4, 5개일 때의 군집별 실루엣 계수 평균값 시각화\n",
    "visualize_silhouette([2,3,4,5], X)"
   ]
  },
  {
   "cell_type": "markdown",
   "metadata": {},
   "source": [
    "군집이 2개인 경우보다 평균 실루엣 계수 값이 작지만, 4개인 경우 개별 군집의 평균 실루엣 계수 값이 비교적 균일하여 가장 이상적임"
   ]
  },
  {
   "cell_type": "code",
   "execution_count": 36,
   "metadata": {},
   "outputs": [
    {
     "data": {
      "image/png": "[encoded data removed]",
      "text/plain": [
       "<Figure size 1152x288 with 4 Axes>"
      ]
     },
     "metadata": {
      "needs_background": "light"
     },
     "output_type": "display_data"
    }
   ],
   "source": [
    "from sklearn.datasets import load_iris\n",
    "iris = load_iris()\n",
    "visualize_silhouette([2,3,4,5], iris.data)"
   ]
  },
  {
   "cell_type": "markdown",
   "metadata": {},
   "source": [
    "붓꽃 데이터의 경우에는 군집 개수를 2개로 하는 것이 가장 이상적임"
   ]
  },
  {
   "cell_type": "markdown",
   "metadata": {},
   "source": [
    "실루엣 계수를 통한 K-평균 군집 평가 방법은 직관적으로 이해하기 쉽지만, 데이터 양이 늘어나면 수행 시간이 크게 늘어나는 단점이 있음\n",
    "\n",
    "메모리 부족 등의 에러가 발생할 경우 군집별로 임의의 데이터를 샘플링해 실루엣 계수를 평가하는 방안을 고민해야 함"
   ]
  },
  {
   "cell_type": "markdown",
   "metadata": {},
   "source": [
    "## 1.3 평균 이동\n",
    "\n",
    "- **평균 이동 : K-평균과 유사하지만 데이터의 분포도를 이용해 군집 중심점을 찾는다는 점에서 차이가 있음**. 이미지, 영상에서 뛰어난 역할 수행\n",
    "\n",
    "장점 : 데이터 세트를 특정 형태로 가정하기 않기 때문에 좀 더 유연하며, 이상치의 영향력도 크지 않고 군집의 개수를 미리 정할 필요가 없음\n",
    "\n",
    "단점 : 수행 시간이 오래 걸리고, bandwidth의 크기에 따른 영향이 매우 큼\n",
    "\n",
    "    1) 개별 데이터의 특정 반경 내 데이터 분포도를 KDE 기반의 알고리즘으로 계산\n",
    "    \n",
    "    2) KDE로 계산된 데이터 분포도가 높은 방향으로 데이터 이동\n",
    "    \n",
    "    3) 개별 데이터들이 군집 중심점으로 모임\n",
    "    \n",
    "    4) 지정된 반복 횟수만큼 군집화를 수행하며, 개별 데이터들이 모인 중심점을 군집 중심점으로 설정\n",
    "    \n",
    "cf) KDE : 커널 함수를 통해 어떤 변수의 확률 밀도 함수(PDF,확률 변수의 분포를 나타내는 함수)를 추정하는 방법\n",
    "\n",
    "**일반적으로 KDE의 대역폭 h가 클수록 평활화되어 적은 수의 군집 중심점(과소적합)을 가지며, h가 적을수록 많은 수의 군집 중심점(과적합)을 가짐**\n",
    "\n",
    "**estimate_bandwidth()** 함수로 최적화된 대역폭 h의 크기인 bandwidth 값 반환\n",
    "\n",
    "**MeanShift** 클래스를 이용하여 bandwidth 파라미터에 따라 군집화 수행"
   ]
  },
  {
   "cell_type": "code",
   "execution_count": 5,
   "metadata": {},
   "outputs": [
    {
     "name": "stdout",
     "output_type": "stream",
     "text": [
      "cluster labels 유형:  [0 1 2]\n"
     ]
    }
   ],
   "source": [
    "import pandas as pd\n",
    "import numpy as np\n",
    "from sklearn.datasets import make_blobs\n",
    "from sklearn.cluster import MeanShift\n",
    "from sklearn.cluster import estimate_bandwidth\n",
    "\n",
    "X, y = make_blobs(n_samples=200, n_features=2, centers=3, cluster_std=0.7, random_state=0)\n",
    "\n",
    "cluster_df = pd.DataFrame(data=X, columns=['ftr1', 'ftr2'])\n",
    "cluster_df['target'] = y\n",
    "\n",
    "best_bandwidth = estimate_bandwidth(X)\n",
    "\n",
    "meanshift = MeanShift(bandwidth=best_bandwidth)\n",
    "cluster_labels = meanshift.fit_predict(X)\n",
    "print('cluster labels 유형: ', np.unique(cluster_labels))"
   ]
  },
  {
   "cell_type": "code",
   "execution_count": 6,
   "metadata": {},
   "outputs": [
    {
     "data": {
      "image/png": "[encoded data removed]",
      "text/plain": [
       "<Figure size 432x288 with 1 Axes>"
      ]
     },
     "metadata": {
      "needs_background": "light"
     },
     "output_type": "display_data"
    }
   ],
   "source": [
    "import matplotlib.pyplot as plt\n",
    "%matplotlib inline\n",
    "\n",
    "cluster_df['meanshift_label'] = cluster_labels\n",
    "centers = meanshift.cluster_centers_\n",
    "unique_labels = np.unique(cluster_labels)\n",
    "markers = ['o','s','^','x','*']\n",
    "\n",
    "for label in unique_labels:\n",
    "    label_cluster = cluster_df[cluster_df['meanshift_label'] == label]\n",
    "    center_xy = centers[label]\n",
    "    plt.scatter(x=label_cluster['ftr1'], y=label_cluster['ftr2'], edgecolor='k', marker=markers[label])\n",
    "    plt.scatter(x=center_xy[0], y=center_xy[1], s=200, color='gray', alpha=0.9, marker=markers[label])\n",
    "    plt.scatter(x=center_xy[0], y=center_xy[1], s=70, color='k', edgecolor='k', marker='$%d$' % label)\n",
    "plt.show()"
   ]
  },
  {
   "cell_type": "code",
   "execution_count": 7,
   "metadata": {},
   "outputs": [
    {
     "name": "stdout",
     "output_type": "stream",
     "text": [
      "target  meanshift_label\n",
      "0       0                  67\n",
      "1       1                  67\n",
      "2       2                  66\n",
      "Name: meanshift_label, dtype: int64\n"
     ]
    }
   ],
   "source": [
    "print(cluster_df.groupby('target')['meanshift_label'].value_counts())"
   ]
  },
  {
   "cell_type": "markdown",
   "metadata": {},
   "source": [
    "## 1.4 GMM(Gaussian Mixture Model)\n",
    "\n",
    "- **GMM : 데이터를 여러 개의 가우시안 분포(정규 분포)가 섞인 것으로 가정하여 군집화를 수행하는 방식**\n",
    "\n",
    "데이터를 구성하는 여러 개의 정규 분포 곡선을 추출하고, 개별 데이터가 이 중 어떤 정규 분포에 속하는지 결정 (모수 추정)\n",
    "\n",
    "GMM의 EM 방식을 통한 모수 추정 군집화를 위해 **GaussianMixture** 클래스 사용\n",
    "\n",
    "n_components 파라미터로 gaussian mixture 모델의 총 개수 지정"
   ]
  },
  {
   "cell_type": "markdown",
   "metadata": {},
   "source": [
    "### 1.4.1 GMM을 이용한 붓꽃 데이터 세트 군집화"
   ]
  },
  {
   "cell_type": "code",
   "execution_count": 9,
   "metadata": {},
   "outputs": [],
   "source": [
    "from sklearn.datasets import load_iris\n",
    "from sklearn.cluster import KMeans\n",
    "from sklearn.mixture import GaussianMixture\n",
    "import matplotlib.pyplot as plt\n",
    "import numpy as np\n",
    "import pandas as pd\n",
    "%matplotlib inline\n",
    "\n",
    "iris = load_iris()\n",
    "feature_names = ['sepal_length','sepal_width','petal_length','petal_width']\n",
    "\n",
    "iris_df = pd.DataFrame(data=iris.data, columns=feature_names)\n",
    "iris_df['target'] = iris.target"
   ]
  },
  {
   "cell_type": "code",
   "execution_count": 11,
   "metadata": {},
   "outputs": [
    {
     "name": "stdout",
     "output_type": "stream",
     "text": [
      "target  gmm_cluster\n",
      "0       0              50\n",
      "1       1              45\n",
      "        2               5\n",
      "2       2              50\n",
      "Name: gmm_cluster, dtype: int64\n"
     ]
    }
   ],
   "source": [
    "gmm = GaussianMixture(n_components=3, random_state=0).fit(iris.data)\n",
    "gmm_cluster_labels = gmm.predict(iris.data)\n",
    "\n",
    "iris_df['gmm_cluster'] = gmm_cluster_labels\n",
    "iris_df['target'] = iris.target\n",
    "\n",
    "iris_result = iris_df.groupby(['target'])['gmm_cluster'].value_counts()\n",
    "print(iris_result)"
   ]
  },
  {
   "cell_type": "markdown",
   "metadata": {},
   "source": [
    "모두 잘 매핑되었으며, Target 1만 cluster 1로 45개, cluster 2로 5개 매핑됨"
   ]
  },
  {
   "cell_type": "markdown",
   "metadata": {},
   "source": [
    "### 1.4.2 GMM과 K-평균의 비교\n",
    "\n",
    "KMeans는 거리 기반, GMM은 확률 기반 군집화\n",
    "\n",
    "KMeans는 데이터 세트가 원형의 범위를 가질수록 효율이 높아지지만, GMM은 다양한 데이터 세트에 유연하게 적용 (but, 수행 시간은 오래 걸림)"
   ]
  },
  {
   "attachments": {
    "image.png": {
     "image/png": "[encoded data removed]"
    }
   },
   "cell_type": "markdown",
   "metadata": {},
   "source": [
    "## 1.5 DBSCAN\n",
    "\n",
    "- **DBSCAN : 밀도 기반 군집화. 복잡한 기하학적 분포의 데이터 세트에도 효과적으로 적용 가능**\n",
    "\n",
    "![image.png](attachment:image.png)\n",
    "\n",
    "입실론 주변 영역의 최소 데이터 개수를 포함하는 밀도 기준을 충족시키는 데이터인 핵심 포인트를 연결하면서 군집화 구성\n",
    "\n",
    "**DBSCAN** 클래스를 통해 알고리즘을 지원하며, eps(입실론 주변 반경), min_samples(반경 내 데이터의 최소 개수)를 파라미터로 사용"
   ]
  },
  {
   "cell_type": "markdown",
   "metadata": {},
   "source": [
    "### 1.5.1 DBSCAN 적용하기 - 붓꽃 데이터 세트"
   ]
  },
  {
   "cell_type": "code",
   "execution_count": 1,
   "metadata": {},
   "outputs": [],
   "source": [
    "from sklearn.datasets import load_iris\n",
    "from sklearn.cluster import DBSCAN\n",
    "import matplotlib.pyplot as plt\n",
    "import numpy as np\n",
    "import pandas as pd\n",
    "%matplotlib inline\n",
    "\n",
    "iris = load_iris()\n",
    "feature_names = ['sepal_length','sepal_width','petal_length','petal_width']\n",
    "\n",
    "iris_df = pd.DataFrame(data=iris.data, columns=feature_names)\n",
    "iris_df['target'] = iris.target"
   ]
  },
  {
   "cell_type": "code",
   "execution_count": 3,
   "metadata": {},
   "outputs": [
    {
     "name": "stdout",
     "output_type": "stream",
     "text": [
      "target  dbscan_cluster\n",
      "0        0                49\n",
      "        -1                 1\n",
      "1        1                46\n",
      "        -1                 4\n",
      "2        1                42\n",
      "        -1                 8\n",
      "Name: dbscan_cluster, dtype: int64\n"
     ]
    }
   ],
   "source": [
    "dbscan = DBSCAN(eps=0.6, min_samples=8, metric='euclidean')\n",
    "dbscan_labels = dbscan.fit_predict(iris.data)\n",
    "\n",
    "iris_df['dbscan_cluster'] = dbscan_labels\n",
    "iris_df['target'] = iris.target\n",
    "\n",
    "iris_result = iris_df.groupby(['target'])['dbscan_cluster'].value_counts()\n",
    "print(iris_result)"
   ]
  },
  {
   "cell_type": "markdown",
   "metadata": {},
   "source": [
    "레이블이 -1인 것은 노이즈에 속하는 군집을 의미하며, 붓꽃 데이터 세트는 0과 1 두 개의 군집으로 군집화됨\n",
    "\n",
    "DBSCAN은 군집의 개수를 알고리즘에 따라 자동 지정하므로 이를 지정하는 것은 무의미함"
   ]
  },
  {
   "cell_type": "markdown",
   "metadata": {},
   "source": [
    "클러스터링 결과를 시각화하는 함수 출처 : https://github.com/wikibook/ml-definitive-guide/blob/master/7%EC%9E%A5/7-5_DBSCAN.ipynb"
   ]
  },
  {
   "cell_type": "code",
   "execution_count": 4,
   "metadata": {},
   "outputs": [],
   "source": [
    "def visualize_cluster_plot(clusterobj, dataframe, label_name, iscenter=True):\n",
    "    if iscenter :\n",
    "        centers = clusterobj.cluster_centers_\n",
    "        \n",
    "    unique_labels = np.unique(dataframe[label_name].values)\n",
    "    markers=['o', 's', '^', 'x', '*']\n",
    "    isNoise=False\n",
    "\n",
    "    for label in unique_labels:\n",
    "        label_cluster = dataframe[dataframe[label_name]==label]\n",
    "        if label == -1:\n",
    "            cluster_legend = 'Noise'\n",
    "            isNoise=True\n",
    "        else :\n",
    "            cluster_legend = 'Cluster '+str(label)\n",
    "        \n",
    "        plt.scatter(x=label_cluster['ftr1'], y=label_cluster['ftr2'], s=70,\\\n",
    "                    edgecolor='k', marker=markers[label], label=cluster_legend)\n",
    "        \n",
    "        if iscenter:\n",
    "            center_x_y = centers[label]\n",
    "            plt.scatter(x=center_x_y[0], y=center_x_y[1], s=250, color='white',\n",
    "                        alpha=0.9, edgecolor='k', marker=markers[label])\n",
    "            plt.scatter(x=center_x_y[0], y=center_x_y[1], s=70, color='k',\\\n",
    "                        edgecolor='k', marker='$%d$' % label)\n",
    "    if isNoise:\n",
    "        legend_loc='upper center'\n",
    "    else: legend_loc='upper right'\n",
    "    \n",
    "    plt.legend(loc=legend_loc)\n",
    "    plt.show()"
   ]
  },
  {
   "cell_type": "code",
   "execution_count": 5,
   "metadata": {},
   "outputs": [
    {
     "data": {
      "image/png": "[encoded data removed]",
      "text/plain": [
       "<Figure size 432x288 with 1 Axes>"
      ]
     },
     "metadata": {
      "needs_background": "light"
     },
     "output_type": "display_data"
    }
   ],
   "source": [
    "from sklearn.decomposition import PCA\n",
    "\n",
    "# 2차원으로 시각화하기 위해 피처 데이터 세트 변환\n",
    "pca = PCA(n_components=2, random_state=0)\n",
    "pca_transformed = pca.fit_transform(iris.data)\n",
    "\n",
    "iris_df['ftr1'] = pca_transformed[:,0]\n",
    "iris_df['ftr2'] = pca_transformed[:,1]\n",
    "\n",
    "visualize_cluster_plot(dbscan, iris_df, 'dbscan_cluster', iscenter=False)"
   ]
  },
  {
   "cell_type": "markdown",
   "metadata": {},
   "source": [
    "일반적으로 eps의 값을 크게 하면 반경이 커져 노이즈 데이터의 개수가 작아지고,\n",
    "\n",
    "min_samples를 크게 하면 주어진 반경 내에서 더 많은 데이터를 포함시켜야 하므로 노이즈 데이터의 개수가 커짐"
   ]
  },
  {
   "cell_type": "markdown",
   "metadata": {},
   "source": [
    "### 1.5.2 DBSCAN 적용하기 - make_circles() 데이터 세트"
   ]
  },
  {
   "cell_type": "code",
   "execution_count": 6,
   "metadata": {},
   "outputs": [
    {
     "data": {
      "image/png": "[encoded data removed]",
      "text/plain": [
       "<Figure size 432x288 with 1 Axes>"
      ]
     },
     "metadata": {
      "needs_background": "light"
     },
     "output_type": "display_data"
    }
   ],
   "source": [
    "from sklearn.datasets import make_circles\n",
    "\n",
    "# make_circles() 함수로 2차원 데이터 세트 생성\n",
    "X, y = make_circles(n_samples=1000, shuffle=True, noise=0.05, random_state=0, factor=0.5)\n",
    "cluster_df = pd.DataFrame(data=X, columns=['ftr1','ftr2'])\n",
    "cluster_df['target'] = y\n",
    "\n",
    "dbscan = DBSCAN(eps=0.2, min_samples=10, metric='euclidean')\n",
    "dbscan_labels = dbscan.fit_predict(X)\n",
    "cluster_df['dbscan_cluster'] = dbscan_labels\n",
    "\n",
    "visualize_cluster_plot(dbscan, cluster_df, 'dbscan_cluster', iscenter=False)"
   ]
  },
  {
   "cell_type": "markdown",
   "metadata": {},
   "source": [
    "내부와 외부의 원형으로 구성된 복잡한 형태의 데이터 세트를 정확히 군집화함"
   ]
  },
  {
   "cell_type": "markdown",
   "metadata": {},
   "source": [
    "## 1.6 군집화 실습 - 고객 세그먼테이션\n",
    "\n",
    "- 고객 세그먼테이션 : 다양한 기준으로 고객을 분류하는 기법 (CRM, 마케팅의 중요 기반 요소)\n",
    "\n",
    "http://archive.ics.uci.edu/ml/datasets/online+retail 에서 데이터를 다운받아 RFM 기법을 이용하여 고객 세그먼테이션을 군집화\n",
    "\n",
    "cf) RFM : 가장 최근 상품 구입일에서 오늘까지의 기간(Recency), 상품 구매 횟수(Frequency), 총 구매 금액(Monetary value)"
   ]
  },
  {
   "cell_type": "code",
   "execution_count": 4,
   "metadata": {},
   "outputs": [
    {
     "data": {
      "text/html": [
       "<div>\n",
       "<style scoped>\n",
       "    .dataframe tbody tr th:only-of-type {\n",
       "        vertical-align: middle;\n",
       "    }\n",
       "\n",
       "    .dataframe tbody tr th {\n",
       "        vertical-align: top;\n",
       "    }\n",
       "\n",
       "    .dataframe thead th {\n",
       "        text-align: right;\n",
       "    }\n",
       "</style>\n",
       "<table border=\"1\" class=\"dataframe\">\n",
       "  <thead>\n",
       "    <tr style=\"text-align: right;\">\n",
       "      <th></th>\n",
       "      <th>InvoiceNo</th>\n",
       "      <th>StockCode</th>\n",
       "      <th>Description</th>\n",
       "      <th>Quantity</th>\n",
       "      <th>InvoiceDate</th>\n",
       "      <th>UnitPrice</th>\n",
       "      <th>CustomerID</th>\n",
       "      <th>Country</th>\n",
       "    </tr>\n",
       "  </thead>\n",
       "  <tbody>\n",
       "    <tr>\n",
       "      <th>0</th>\n",
       "      <td>536365</td>\n",
       "      <td>85123A</td>\n",
       "      <td>WHITE HANGING HEART T-LIGHT HOLDER</td>\n",
       "      <td>6</td>\n",
       "      <td>2010-12-01 08:26:00</td>\n",
       "      <td>2.55</td>\n",
       "      <td>17850.0</td>\n",
       "      <td>United Kingdom</td>\n",
       "    </tr>\n",
       "    <tr>\n",
       "      <th>1</th>\n",
       "      <td>536365</td>\n",
       "      <td>71053</td>\n",
       "      <td>WHITE METAL LANTERN</td>\n",
       "      <td>6</td>\n",
       "      <td>2010-12-01 08:26:00</td>\n",
       "      <td>3.39</td>\n",
       "      <td>17850.0</td>\n",
       "      <td>United Kingdom</td>\n",
       "    </tr>\n",
       "    <tr>\n",
       "      <th>2</th>\n",
       "      <td>536365</td>\n",
       "      <td>84406B</td>\n",
       "      <td>CREAM CUPID HEARTS COAT HANGER</td>\n",
       "      <td>8</td>\n",
       "      <td>2010-12-01 08:26:00</td>\n",
       "      <td>2.75</td>\n",
       "      <td>17850.0</td>\n",
       "      <td>United Kingdom</td>\n",
       "    </tr>\n",
       "  </tbody>\n",
       "</table>\n",
       "</div>"
      ],
      "text/plain": [
       "  InvoiceNo StockCode                         Description  Quantity  \\\n",
       "0    536365    85123A  WHITE HANGING HEART T-LIGHT HOLDER         6   \n",
       "1    536365     71053                 WHITE METAL LANTERN         6   \n",
       "2    536365    84406B      CREAM CUPID HEARTS COAT HANGER         8   \n",
       "\n",
       "          InvoiceDate  UnitPrice  CustomerID         Country  \n",
       "0 2010-12-01 08:26:00       2.55     17850.0  United Kingdom  \n",
       "1 2010-12-01 08:26:00       3.39     17850.0  United Kingdom  \n",
       "2 2010-12-01 08:26:00       2.75     17850.0  United Kingdom  "
      ]
     },
     "execution_count": 4,
     "metadata": {},
     "output_type": "execute_result"
    }
   ],
   "source": [
    "import pandas as pd\n",
    "import datetime\n",
    "import math\n",
    "import numpy as np\n",
    "import matplotlib.pyplot as plt\n",
    "%matplotlib inline\n",
    "\n",
    "df = pd.read_excel(io='./data/Online Retail.xlsx')\n",
    "df.head(3)"
   ]
  },
  {
   "cell_type": "markdown",
   "metadata": {},
   "source": [
    "- InvoiceNo: 주문번호 (C로 시작하는 것은 취소 주문)\n",
    "\n",
    "\n",
    "- StockCode: 제품 코드\n",
    "\n",
    "\n",
    "- Description: 제품 설명\n",
    "\n",
    "\n",
    "- Quantitiy: 주문 제품 건수\n",
    "\n",
    "\n",
    "- InvoiceDate: 주문 일자\n",
    "\n",
    "\n",
    "- UnitPrice: 제품 단가\n",
    "\n",
    "\n",
    "- CustomerID: 고객 번호\n",
    "\n",
    "\n",
    "- Country: 국적"
   ]
  },
  {
   "cell_type": "code",
   "execution_count": 5,
   "metadata": {},
   "outputs": [
    {
     "name": "stdout",
     "output_type": "stream",
     "text": [
      "<class 'pandas.core.frame.DataFrame'>\n",
      "RangeIndex: 541909 entries, 0 to 541908\n",
      "Data columns (total 8 columns):\n",
      " #   Column       Non-Null Count   Dtype         \n",
      "---  ------       --------------   -----         \n",
      " 0   InvoiceNo    541909 non-null  object        \n",
      " 1   StockCode    541909 non-null  object        \n",
      " 2   Description  540455 non-null  object        \n",
      " 3   Quantity     541909 non-null  int64         \n",
      " 4   InvoiceDate  541909 non-null  datetime64[ns]\n",
      " 5   UnitPrice    541909 non-null  float64       \n",
      " 6   CustomerID   406829 non-null  float64       \n",
      " 7   Country      541909 non-null  object        \n",
      "dtypes: datetime64[ns](1), float64(2), int64(1), object(4)\n",
      "memory usage: 33.1+ MB\n"
     ]
    }
   ],
   "source": [
    "df.info()"
   ]
  },
  {
   "cell_type": "markdown",
   "metadata": {},
   "source": [
    "결측치가 많은 CustomerID와 Quantity 또는 UnitPrice가 0보다 적은 경우의 데이터 삭제"
   ]
  },
  {
   "cell_type": "code",
   "execution_count": 6,
   "metadata": {},
   "outputs": [
    {
     "name": "stdout",
     "output_type": "stream",
     "text": [
      "(397884, 8)\n"
     ]
    },
    {
     "data": {
      "text/plain": [
       "InvoiceNo      0\n",
       "StockCode      0\n",
       "Description    0\n",
       "Quantity       0\n",
       "InvoiceDate    0\n",
       "UnitPrice      0\n",
       "CustomerID     0\n",
       "Country        0\n",
       "dtype: int64"
      ]
     },
     "execution_count": 6,
     "metadata": {},
     "output_type": "execute_result"
    }
   ],
   "source": [
    "df = df[df['Quantity'] > 0]\n",
    "df = df[df['UnitPrice'] > 0]\n",
    "df = df[df['CustomerID'].notnull()]\n",
    "print(df.shape)\n",
    "df.isnull().sum()"
   ]
  },
  {
   "cell_type": "code",
   "execution_count": 7,
   "metadata": {},
   "outputs": [
    {
     "data": {
      "text/plain": [
       "United Kingdom    354321\n",
       "Germany             9040\n",
       "France              8341\n",
       "EIRE                7236\n",
       "Spain               2484\n",
       "Name: Country, dtype: int64"
      ]
     },
     "execution_count": 7,
     "metadata": {},
     "output_type": "execute_result"
    }
   ],
   "source": [
    "df['Country'].value_counts()[:5]"
   ]
  },
  {
   "cell_type": "markdown",
   "metadata": {},
   "source": [
    "영국이 대다수를 차지하므로 다른 국가의 데이터는 모두 제외"
   ]
  },
  {
   "cell_type": "code",
   "execution_count": 8,
   "metadata": {},
   "outputs": [
    {
     "name": "stdout",
     "output_type": "stream",
     "text": [
      "(354321, 8)\n"
     ]
    }
   ],
   "source": [
    "df = df[df['Country'] == 'United Kingdom']\n",
    "print(df.shape)"
   ]
  },
  {
   "cell_type": "markdown",
   "metadata": {},
   "source": [
    "### 1.6.1 RFM 기반 데이터 가공"
   ]
  },
  {
   "cell_type": "code",
   "execution_count": 9,
   "metadata": {},
   "outputs": [],
   "source": [
    "# 주문 금액 데이터 생성 및 CustomerID 타입 변경\n",
    "df['sale_amount'] = df['Quantity'] * df['UnitPrice']\n",
    "df['CustomerID'] = df['CustomerID'].astype(int)"
   ]
  },
  {
   "cell_type": "code",
   "execution_count": 10,
   "metadata": {},
   "outputs": [
    {
     "name": "stdout",
     "output_type": "stream",
     "text": [
      "17841    7847\n",
      "14096    5111\n",
      "12748    4595\n",
      "14606    2700\n",
      "15311    2379\n",
      "Name: CustomerID, dtype: int64\n",
      "CustomerID\n",
      "18102    259657.30\n",
      "17450    194550.79\n",
      "16446    168472.50\n",
      "17511     91062.38\n",
      "16029     81024.84\n",
      "Name: sale_amount, dtype: float64\n"
     ]
    }
   ],
   "source": [
    "# Top-5 주문 건수와 주문 금액을 가진 고객 데이터 추출\n",
    "print(df['CustomerID'].value_counts().head())\n",
    "print(df.groupby('CustomerID')['sale_amount'].sum().sort_values(ascending=False)[:5])"
   ]
  },
  {
   "cell_type": "markdown",
   "metadata": {},
   "source": [
    "몇몇 특정 고객이 많은 주문 건수와 주문 금액을 가지고 있음\n",
    "\n",
    "해당 데이터는 전형적인 판매 데이터 세트와 같이 주문번호(InvoiceNo) + 상품코드(StockCode) 레벨의 식별자로 구성\n",
    "\n",
    "이에 따라 주문번호 기준의 데이터를 개별 고객 기준의 데이터로 Group by 하여 주문번호+상품코드 기준의 데이터를 고객 기준 RFM 데이터로 변경"
   ]
  },
  {
   "cell_type": "code",
   "execution_count": 11,
   "metadata": {},
   "outputs": [
    {
     "data": {
      "text/html": [
       "<div>\n",
       "<style scoped>\n",
       "    .dataframe tbody tr th:only-of-type {\n",
       "        vertical-align: middle;\n",
       "    }\n",
       "\n",
       "    .dataframe tbody tr th {\n",
       "        vertical-align: top;\n",
       "    }\n",
       "\n",
       "    .dataframe thead th {\n",
       "        text-align: right;\n",
       "    }\n",
       "</style>\n",
       "<table border=\"1\" class=\"dataframe\">\n",
       "  <thead>\n",
       "    <tr style=\"text-align: right;\">\n",
       "      <th></th>\n",
       "      <th>CustomerID</th>\n",
       "      <th>Recency</th>\n",
       "      <th>Frequency</th>\n",
       "      <th>Monetary</th>\n",
       "    </tr>\n",
       "  </thead>\n",
       "  <tbody>\n",
       "    <tr>\n",
       "      <th>0</th>\n",
       "      <td>12346</td>\n",
       "      <td>2011-01-18 10:01:00</td>\n",
       "      <td>1</td>\n",
       "      <td>77183.60</td>\n",
       "    </tr>\n",
       "    <tr>\n",
       "      <th>1</th>\n",
       "      <td>12747</td>\n",
       "      <td>2011-12-07 14:34:00</td>\n",
       "      <td>103</td>\n",
       "      <td>4196.01</td>\n",
       "    </tr>\n",
       "    <tr>\n",
       "      <th>2</th>\n",
       "      <td>12748</td>\n",
       "      <td>2011-12-09 12:20:00</td>\n",
       "      <td>4595</td>\n",
       "      <td>33719.73</td>\n",
       "    </tr>\n",
       "  </tbody>\n",
       "</table>\n",
       "</div>"
      ],
      "text/plain": [
       "   CustomerID             Recency  Frequency  Monetary\n",
       "0       12346 2011-01-18 10:01:00          1  77183.60\n",
       "1       12747 2011-12-07 14:34:00        103   4196.01\n",
       "2       12748 2011-12-09 12:20:00       4595  33719.73"
      ]
     },
     "execution_count": 11,
     "metadata": {},
     "output_type": "execute_result"
    }
   ],
   "source": [
    "# Recency는 InvoiceDate 칼럼의 max()에서 데이터 가공\n",
    "# Frequency는 InvoiceNo 칼럼의 count(), Monetary value는 sale_amount 칼럼의 sum()\n",
    "aggregations = {\n",
    "    'InvoiceDate': 'max',\n",
    "    'InvoiceNo': 'count',\n",
    "    'sale_amount': 'sum'\n",
    "}\n",
    "cust_df = df.groupby('CustomerID').agg(aggregations)\n",
    "\n",
    "# groupby된 결과 칼럼 값을 RFM으로 변경\n",
    "cust_df = cust_df.rename(columns = {'InvoiceDate':'Recency',\n",
    "                                    'InvoiceNo':'Frequency',\n",
    "                                    'sale_amount':'Monetary'})\n",
    "cust_df = cust_df.reset_index()\n",
    "cust_df.head(3)"
   ]
  },
  {
   "cell_type": "markdown",
   "metadata": {},
   "source": [
    "온라인 판매 데이터는 2010면 12월 1일에서 2011년 12월 9일까지의 데이터임\n",
    "\n",
    "2011년 12월 10일을 현재 날짜로 간주하고 가장 최근의 주문 일자를 뺀 데이터에서 일자 데이터(days)만 추출"
   ]
  },
  {
   "cell_type": "code",
   "execution_count": 12,
   "metadata": {},
   "outputs": [
    {
     "name": "stdout",
     "output_type": "stream",
     "text": [
      "(3920, 4)\n"
     ]
    },
    {
     "data": {
      "text/html": [
       "<div>\n",
       "<style scoped>\n",
       "    .dataframe tbody tr th:only-of-type {\n",
       "        vertical-align: middle;\n",
       "    }\n",
       "\n",
       "    .dataframe tbody tr th {\n",
       "        vertical-align: top;\n",
       "    }\n",
       "\n",
       "    .dataframe thead th {\n",
       "        text-align: right;\n",
       "    }\n",
       "</style>\n",
       "<table border=\"1\" class=\"dataframe\">\n",
       "  <thead>\n",
       "    <tr style=\"text-align: right;\">\n",
       "      <th></th>\n",
       "      <th>CustomerID</th>\n",
       "      <th>Recency</th>\n",
       "      <th>Frequency</th>\n",
       "      <th>Monetary</th>\n",
       "    </tr>\n",
       "  </thead>\n",
       "  <tbody>\n",
       "    <tr>\n",
       "      <th>0</th>\n",
       "      <td>12346</td>\n",
       "      <td>326</td>\n",
       "      <td>1</td>\n",
       "      <td>77183.60</td>\n",
       "    </tr>\n",
       "    <tr>\n",
       "      <th>1</th>\n",
       "      <td>12747</td>\n",
       "      <td>3</td>\n",
       "      <td>103</td>\n",
       "      <td>4196.01</td>\n",
       "    </tr>\n",
       "    <tr>\n",
       "      <th>2</th>\n",
       "      <td>12748</td>\n",
       "      <td>1</td>\n",
       "      <td>4595</td>\n",
       "      <td>33719.73</td>\n",
       "    </tr>\n",
       "  </tbody>\n",
       "</table>\n",
       "</div>"
      ],
      "text/plain": [
       "   CustomerID  Recency  Frequency  Monetary\n",
       "0       12346      326          1  77183.60\n",
       "1       12747        3        103   4196.01\n",
       "2       12748        1       4595  33719.73"
      ]
     },
     "execution_count": 12,
     "metadata": {},
     "output_type": "execute_result"
    }
   ],
   "source": [
    "import datetime as dt\n",
    "\n",
    "cust_df['Recency'] = dt.datetime(2011, 12, 10) - cust_df['Recency']\n",
    "cust_df['Recency'] = cust_df['Recency'].apply(lambda x: x.days+1)\n",
    "print(cust_df.shape)\n",
    "cust_df.head(3)"
   ]
  },
  {
   "cell_type": "markdown",
   "metadata": {},
   "source": [
    "### 1.6.2  RFM 기반 고객 세그먼테이션\n",
    "\n",
    "소매업체의 대규모 주문을 포함하므로, 이는 개인 고객 주문과 매우 큰 차이를 나타내 왜곡된 데이터 분포도를 가지게 됨\n",
    "\n",
    "따라서 **StandardScaler로 평균과 표준편차를 재조정한 뒤에 K-평균 수행**"
   ]
  },
  {
   "cell_type": "code",
   "execution_count": 14,
   "metadata": {},
   "outputs": [
    {
     "name": "stdout",
     "output_type": "stream",
     "text": [
      "실루엣 스코어: 0.592\n"
     ]
    }
   ],
   "source": [
    "from sklearn.preprocessing import StandardScaler\n",
    "from sklearn.cluster import KMeans\n",
    "from sklearn.metrics import silhouette_score, silhouette_samples\n",
    "\n",
    "X_features = cust_df[['Recency','Frequency','Monetary']].values\n",
    "X_features_scaled = StandardScaler().fit_transform(X_features)\n",
    "\n",
    "kmeans = KMeans(n_clusters=3, random_state=0)\n",
    "labels = kmeans.fit_predict(X_features_scaled)\n",
    "cust_df['cluster_label'] = labels\n",
    "\n",
    "print('실루엣 스코어: {0:.3f}'.format(silhouette_score(X_features_scaled, labels)))"
   ]
  },
  {
   "cell_type": "code",
   "execution_count": 16,
   "metadata": {},
   "outputs": [
    {
     "data": {
      "image/png": "[encoded data removed]",
      "text/plain": [
       "<Figure size 1152x288 with 4 Axes>"
      ]
     },
     "metadata": {
      "needs_background": "light"
     },
     "output_type": "display_data"
    }
   ],
   "source": [
    "visualize_silhouette([2,3,4,5], X_features_scaled)"
   ]
  },
  {
   "cell_type": "markdown",
   "metadata": {},
   "source": [
    "군집을 3개로 구성할 경우 실루엣 스코어는 안정적인 수치가 나왔으나, 데이터 세트의 개수가 너무 작은 군집이 생성됨\n",
    "\n",
    "이 소수의 데이터 세트는 왜곡된 데이터 값인 특정 소매점의 대량 주문 구매 데이터를 의미함\n",
    "\n",
    "따라서 왜곡 정도를 낮추기 위해 **전체 데이터를 로그 변환한 뒤에 K-평균 알고리즘 적용**"
   ]
  },
  {
   "cell_type": "code",
   "execution_count": 19,
   "metadata": {},
   "outputs": [
    {
     "name": "stdout",
     "output_type": "stream",
     "text": [
      "실루엣 스코어: 0.303\n"
     ]
    }
   ],
   "source": [
    "from sklearn.preprocessing import StandardScaler\n",
    "from sklearn.cluster import KMeans\n",
    "from sklearn.metrics import silhouette_score, silhouette_samples\n",
    "\n",
    "cust_df['Recency_log'] = np.log1p(cust_df['Recency'])\n",
    "cust_df['Frequency_log'] = np.log1p(cust_df['Frequency'])\n",
    "cust_df['Monetary_log'] = np.log1p(cust_df['Monetary'])\n",
    "\n",
    "X_features = cust_df[['Recency_log', 'Frequency_log', 'Monetary_log']].values\n",
    "X_features_scaled = StandardScaler().fit_transform(X_features)\n",
    "\n",
    "kmeans = KMeans(n_clusters=3, random_state=0)\n",
    "labels = kmeans.fit_predict(X_features_scaled)\n",
    "cust_df['cluster_label'] = labels\n",
    "\n",
    "print('실루엣 스코어: {0:.3f}'.format(silhouette_score(X_features_scaled, labels)))"
   ]
  },
  {
   "cell_type": "code",
   "execution_count": 20,
   "metadata": {},
   "outputs": [
    {
     "data": {
      "image/png": "[encoded data removed]",
      "text/plain": [
       "<Figure size 1152x288 with 4 Axes>"
      ]
     },
     "metadata": {
      "needs_background": "light"
     },
     "output_type": "display_data"
    }
   ],
   "source": [
    "visualize_silhouette([2,3,4,5], X_features_scaled)"
   ]
  },
  {
   "cell_type": "markdown",
   "metadata": {},
   "source": [
    "실루엣 스코어는 전보다 더 떨어졌으나, 앞의 경우보다 균일하게 군집화가 구성됐음을 알 수 있음"
   ]
  },
  {
   "cell_type": "code",
   "execution_count": null,
   "metadata": {},
   "outputs": [],
   "source": []
  }
 ],
 "metadata": {
  "kernelspec": {
   "display_name": "Python 3",
   "language": "python",
   "name": "python3"
  },
  "language_info": {
   "codemirror_mode": {
    "name": "ipython",
    "version": 3
   },
   "file_extension": ".py",
   "mimetype": "text/x-python",
   "name": "python",
   "nbconvert_exporter": "python",
   "pygments_lexer": "ipython3",
   "version": "3.8.3"
  },
  "toc": {
   "base_numbering": 1,
   "nav_menu": {},
   "number_sections": false,
   "sideBar": false,
   "skip_h1_title": false,
   "title_cell": "Table of Contents",
   "title_sidebar": "Contents",
   "toc_cell": true,
   "toc_position": {},
   "toc_section_display": true,
   "toc_window_display": false
  }
 },
 "nbformat": 4,
 "nbformat_minor": 4
}
