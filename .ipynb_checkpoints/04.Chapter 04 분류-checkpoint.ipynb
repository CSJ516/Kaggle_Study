{
 "cells": [
  {
   "cell_type": "markdown",
   "metadata": {
    "toc": true
   },
   "source": [
    "<h1>Table of Contents<span class=\"tocSkip\"></span></h1>\n",
    "<div class=\"toc\"><ul class=\"toc-item\"><li><span><a href=\"#1.-[Chapter-04]-분류\" data-toc-modified-id=\"1.-[Chapter-04]-분류-1\">1. [Chapter 04] 분류</a></span><ul class=\"toc-item\"><li><span><a href=\"#1.1-분류의-개요\" data-toc-modified-id=\"1.1-분류의-개요-1.1\">1.1 분류의 개요</a></span></li><li><span><a href=\"#1.2-결정-트리\" data-toc-modified-id=\"1.2-결정-트리-1.2\">1.2 결정 트리</a></span></li><li><span><a href=\"#1.3-앙상블-학습\" data-toc-modified-id=\"1.3-앙상블-학습-1.3\">1.3 앙상블 학습</a></span></li><li><span><a href=\"#1.4-랜덤-포레스트\" data-toc-modified-id=\"1.4-랜덤-포레스트-1.4\">1.4 랜덤 포레스트</a></span></li><li><span><a href=\"#1.5-GBM(Gradient-Boosting-Machine)\" data-toc-modified-id=\"1.5-GBM(Gradient-Boosting-Machine)-1.5\">1.5 GBM(Gradient Boosting Machine)</a></span></li><li><span><a href=\"#1.6-XGBoost(eXtra-Gradient-Boost)\" data-toc-modified-id=\"1.6-XGBoost(eXtra-Gradient-Boost)-1.6\">1.6 XGBoost(eXtra Gradient Boost)</a></span></li><li><span><a href=\"#1.7-LightGBM\" data-toc-modified-id=\"1.7-LightGBM-1.7\">1.7 LightGBM</a></span></li><li><span><a href=\"#1.8-캐글-산탄데르-고객-만족-예측\" data-toc-modified-id=\"1.8-캐글-산탄데르-고객-만족-예측-1.8\">1.8 캐글 산탄데르 고객 만족 예측</a></span></li><li><span><a href=\"#1.9-캐글-신용카드-사기-검출\" data-toc-modified-id=\"1.9-캐글-신용카드-사기-검출-1.9\">1.9 캐글 신용카드 사기 검출</a></span></li><li><span><a href=\"#1.10-스태킹-앙상블\" data-toc-modified-id=\"1.10-스태킹-앙상블-1.10\">1.10 스태킹 앙상블</a></span></li></ul></li></ul></div>"
   ]
  },
  {
   "cell_type": "markdown",
   "metadata": {},
   "source": [
    "# 1. [Chapter 04] 분류"
   ]
  },
  {
   "cell_type": "markdown",
   "metadata": {},
   "source": [
    "## 1.1 분류의 개요"
   ]
  },
  {
   "cell_type": "markdown",
   "metadata": {},
   "source": [
    "## 1.2 결정 트리"
   ]
  },
  {
   "cell_type": "markdown",
   "metadata": {},
   "source": [
    "## 1.3 앙상블 학습"
   ]
  },
  {
   "cell_type": "markdown",
   "metadata": {},
   "source": [
    "## 1.4 랜덤 포레스트"
   ]
  },
  {
   "cell_type": "markdown",
   "metadata": {},
   "source": [
    "## 1.5 GBM(Gradient Boosting Machine)"
   ]
  },
  {
   "cell_type": "markdown",
   "metadata": {},
   "source": [
    "## 1.6 XGBoost(eXtra Gradient Boost)"
   ]
  },
  {
   "cell_type": "markdown",
   "metadata": {},
   "source": [
    "## 1.7 LightGBM"
   ]
  },
  {
   "cell_type": "markdown",
   "metadata": {},
   "source": [
    "## 1.8 캐글 산탄데르 고객 만족 예측"
   ]
  },
  {
   "cell_type": "markdown",
   "metadata": {},
   "source": [
    "## 1.9 캐글 신용카드 사기 검출"
   ]
  },
  {
   "cell_type": "markdown",
   "metadata": {},
   "source": [
    "## 1.10 스태킹 앙상블"
   ]
  },
  {
   "cell_type": "code",
   "execution_count": null,
   "metadata": {},
   "outputs": [],
   "source": []
  }
 ],
 "metadata": {
  "kernelspec": {
   "display_name": "Python 3",
   "language": "python",
   "name": "python3"
  },
  "language_info": {
   "codemirror_mode": {
    "name": "ipython",
    "version": 3
   },
   "file_extension": ".py",
   "mimetype": "text/x-python",
   "name": "python",
   "nbconvert_exporter": "python",
   "pygments_lexer": "ipython3",
   "version": "3.8.3"
  },
  "toc": {
   "base_numbering": 1,
   "nav_menu": {},
   "number_sections": false,
   "sideBar": false,
   "skip_h1_title": false,
   "title_cell": "Table of Contents",
   "title_sidebar": "Contents",
   "toc_cell": true,
   "toc_position": {},
   "toc_section_display": true,
   "toc_window_display": false
  }
 },
 "nbformat": 4,
 "nbformat_minor": 4
}
