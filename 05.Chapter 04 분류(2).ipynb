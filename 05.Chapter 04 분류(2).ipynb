{
 "cells": [
  {
   "cell_type": "markdown",
   "metadata": {
    "toc": true
   },
   "source": [
    "<h1>Table of Contents<span class=\"tocSkip\"></span></h1>\n",
    "<div class=\"toc\"><ul class=\"toc-item\"><li><span><a href=\"#1.-[Chapter-04]-분류\" data-toc-modified-id=\"1.-[Chapter-04]-분류-1\">1. [Chapter 04] 분류</a></span><ul class=\"toc-item\"><li><span><a href=\"#1.8-분류-실습---캐글-산탄데르-고객-만족-예측\" data-toc-modified-id=\"1.8-분류-실습---캐글-산탄데르-고객-만족-예측-1.1\">1.8 분류 실습 - 캐글 산탄데르 고객 만족 예측</a></span></li><li><span><a href=\"#1.9-분류-실습---캐글-신용카드-사기-검출\" data-toc-modified-id=\"1.9-분류-실습---캐글-신용카드-사기-검출-1.2\">1.9 분류 실습 - 캐글 신용카드 사기 검출</a></span></li><li><span><a href=\"#1.10-스태킹-앙상블\" data-toc-modified-id=\"1.10-스태킹-앙상블-1.3\">1.10 스태킹 앙상블</a></span></li></ul></li></ul></div>"
   ]
  },
  {
   "cell_type": "markdown",
   "metadata": {},
   "source": [
    "# 1. [Chapter 04] 분류"
   ]
  },
  {
   "cell_type": "markdown",
   "metadata": {},
   "source": [
    "## 1.8 분류 실습 - 캐글 산탄데르 고객 만족 예측"
   ]
  },
  {
   "cell_type": "code",
   "execution_count": null,
   "metadata": {},
   "outputs": [],
   "source": []
  },
  {
   "cell_type": "markdown",
   "metadata": {},
   "source": [
    "## 1.9 분류 실습 - 캐글 신용카드 사기 검출"
   ]
  },
  {
   "cell_type": "code",
   "execution_count": null,
   "metadata": {},
   "outputs": [],
   "source": []
  },
  {
   "cell_type": "markdown",
   "metadata": {},
   "source": [
    "## 1.10 스태킹 앙상블"
   ]
  },
  {
   "cell_type": "code",
   "execution_count": null,
   "metadata": {},
   "outputs": [],
   "source": []
  }
 ],
 "metadata": {
  "kernelspec": {
   "display_name": "Python 3",
   "language": "python",
   "name": "python3"
  },
  "language_info": {
   "codemirror_mode": {
    "name": "ipython",
    "version": 3
   },
   "file_extension": ".py",
   "mimetype": "text/x-python",
   "name": "python",
   "nbconvert_exporter": "python",
   "pygments_lexer": "ipython3",
   "version": "3.8.3"
  },
  "toc": {
   "base_numbering": 1,
   "nav_menu": {},
   "number_sections": false,
   "sideBar": false,
   "skip_h1_title": false,
   "title_cell": "Table of Contents",
   "title_sidebar": "Contents",
   "toc_cell": true,
   "toc_position": {},
   "toc_section_display": true,
   "toc_window_display": false
  }
 },
 "nbformat": 4,
 "nbformat_minor": 4
}
